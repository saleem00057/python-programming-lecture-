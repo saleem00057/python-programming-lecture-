{
 "cells": [
  {
   "cell_type": "markdown",
   "id": "f46bb994-0df8-479d-b5b1-cd2ae3cf7155",
   "metadata": {},
   "source": [
    "### list , tuple in python\n",
    "## list\n",
    "* a built in data type that store set of values\n",
    "* its store elements of diffrent type (integer,float,string etc)"
   ]
  },
  {
   "cell_type": "code",
   "execution_count": 1,
   "id": "9f673226-fc1b-4cfc-8da6-25d4e3ba6b27",
   "metadata": {},
   "outputs": [
    {
     "name": "stdout",
     "output_type": "stream",
     "text": [
      "[94.5, 80.5, 75.6, 45.3, 12.4]\n",
      "<class 'list'>\n"
     ]
    }
   ],
   "source": [
    "marks_list = [94.5,80.5,75.6,45.3,12.4]\n",
    "print(marks_list)\n",
    "print(type(marks_list))"
   ]
  },
  {
   "cell_type": "code",
   "execution_count": 2,
   "id": "1c4b84c2-4410-4a18-af08-fce2e6f5acbd",
   "metadata": {},
   "outputs": [
    {
     "name": "stdout",
     "output_type": "stream",
     "text": [
      "94.5\n",
      "80.5\n"
     ]
    }
   ],
   "source": [
    "marks_list = [94.5,80.5,75.6,45.3,12.4]\n",
    "#print(marks_list)\n",
    "#print(type(marks_list))\n",
    "print(marks_list[0]) #indexing accessable\n",
    "print(marks_list[1])"
   ]
  },
  {
   "cell_type": "code",
   "execution_count": 3,
   "id": "36193415-9abd-476b-84be-d1710ea98142",
   "metadata": {},
   "outputs": [
    {
     "name": "stdout",
     "output_type": "stream",
     "text": [
      "5\n"
     ]
    }
   ],
   "source": [
    "marks_list = [94.5,80.5,75.6,45.3,12.4]\n",
    "#print(marks_list)\n",
    "print(len(marks_list))#len() of list"
   ]
  },
  {
   "cell_type": "code",
   "execution_count": 4,
   "id": "6ce16b0b-07a2-4320-85ee-8564e29a4e97",
   "metadata": {},
   "outputs": [
    {
     "name": "stdout",
     "output_type": "stream",
     "text": [
      "['Saleem', 30, 68.5, 'Karachi']\n"
     ]
    }
   ],
   "source": [
    "student_list = [\"Saleem\",30,68.5,\"Karachi\"]#String,boolen,integer elements in a list\n",
    "print(student_list)"
   ]
  },
  {
   "cell_type": "code",
   "execution_count": 5,
   "id": "13b223d3-4c21-4576-b1c0-d82c7a6fe0de",
   "metadata": {},
   "outputs": [
    {
     "name": "stdout",
     "output_type": "stream",
     "text": [
      "Saleem\n",
      "['Muhammad', 30, 68.5, 'Karachi']\n"
     ]
    }
   ],
   "source": [
    "student_list = [\"Saleem\",30,68.5,\"Karachi\"] #Lists are muteable,accessable,changeable\n",
    "print(student_list[0])\n",
    "student_list[0] = \"Muhammad\"\n",
    "print(student_list)"
   ]
  },
  {
   "cell_type": "code",
   "execution_count": 6,
   "id": "c36a2cfc-f92b-4748-a0f2-b6bea42893d8",
   "metadata": {},
   "outputs": [
    {
     "name": "stdout",
     "output_type": "stream",
     "text": [
      "[23, 56, 78, 98, 65, 43]\n",
      "[23, 56, 78, 98, 65, 43, 65, 87, 23, 67]\n",
      "[34, 23, 56, 78, 98, 65, 43]\n",
      "[87, 23]\n"
     ]
    }
   ],
   "source": [
    "#list slicing\n",
    "marks =[34,23,56,78,98,65,43,65,87,23,67]\n",
    "print(marks[1:7])\n",
    "print(marks[1:])\n",
    "print(marks[:7])\n",
    "print(marks[-3:-1])"
   ]
  },
  {
   "cell_type": "markdown",
   "id": "a86926ef-92a9-444d-96a1-79616e1836d6",
   "metadata": {},
   "source": [
    "### list method "
   ]
  },
  {
   "cell_type": "code",
   "execution_count": 7,
   "id": "d92217fc-75a7-4eac-8229-b53101e74f47",
   "metadata": {},
   "outputs": [
    {
     "name": "stdout",
     "output_type": "stream",
     "text": [
      "[34, 23, 56, 78, 98, 65, 43, 65, 87, 23, 67, 72]\n"
     ]
    }
   ],
   "source": [
    "#not same as function it is list spacific method\n",
    "#.append() method\n",
    "marks =[34,23,56,78,98,65,43,65,87,23,67] #mutetating the list\n",
    "marks.append(72)\n",
    "print(marks)"
   ]
  },
  {
   "cell_type": "code",
   "execution_count": 8,
   "id": "51126921-7638-4b7b-94ff-02e95343afed",
   "metadata": {},
   "outputs": [
    {
     "name": "stdout",
     "output_type": "stream",
     "text": [
      "[23, 23, 34, 43, 56, 65, 65, 67, 78, 87, 98]\n"
     ]
    }
   ],
   "source": [
    "#list method \n",
    "#accending\n",
    "#.sort() method\n",
    "marks =[34,23,56,78,98,65,43,65,87,23,67] #mutetating the list\n",
    "marks.sort()\n",
    "print(marks)"
   ]
  },
  {
   "cell_type": "code",
   "execution_count": 9,
   "id": "a09593b6-9995-4091-9255-0cd8aa7360a4",
   "metadata": {},
   "outputs": [
    {
     "name": "stdout",
     "output_type": "stream",
     "text": [
      "[23, 23, 34, 43, 56, 65, 65, 67, 78, 87, 98]\n",
      "None\n"
     ]
    }
   ],
   "source": [
    "#list method \n",
    "#accending\n",
    "#.sort() method\n",
    "marks =[34,23,56,78,98,65,43,65,87,23,67] #mutetating the list in accending order\n",
    "marks.sort()\n",
    "print(marks)\n",
    "print(marks.sort())"
   ]
  },
  {
   "cell_type": "code",
   "execution_count": 10,
   "id": "0c866580-a0ad-4f9c-8656-1157ade191ba",
   "metadata": {},
   "outputs": [
    {
     "name": "stdout",
     "output_type": "stream",
     "text": [
      "None\n",
      "[98, 87, 78, 67, 65, 65, 56, 43, 34, 23, 23]\n"
     ]
    }
   ],
   "source": [
    "#list method \n",
    "#deaccending\n",
    "#.sort((reverse=True) method\n",
    "marks =[34,23,56,78,98,65,43,65,87,23,67] #mutetating the list in deaccending order\n",
    "#marks.sort()\n",
    "print(marks.sort(reverse=True))\n",
    "print(marks)"
   ]
  },
  {
   "cell_type": "code",
   "execution_count": 11,
   "id": "6a14b023-43f4-4f43-b6b2-fc5e129051ed",
   "metadata": {},
   "outputs": [
    {
     "name": "stdout",
     "output_type": "stream",
     "text": [
      "None\n",
      "['u', 'r', 'f', 'b', 'a']\n"
     ]
    }
   ],
   "source": [
    "#list method \n",
    "#deaccending \n",
    "marks =[\"a\",\"f\",\"r\",\"u\",\"b\"] #mutetating the list in deaccending order\n",
    "marks.sort()\n",
    "print(marks.sort(reverse=True))\n",
    "print(marks)"
   ]
  },
  {
   "cell_type": "code",
   "execution_count": 12,
   "id": "e330256a-6ca2-40aa-aaf4-625a9840f18a",
   "metadata": {},
   "outputs": [
    {
     "name": "stdout",
     "output_type": "stream",
     "text": [
      "['b', 'u', 'r', 'f', 'a']\n"
     ]
    }
   ],
   "source": [
    "#list method \n",
    "#.reverse () method\n",
    "marks =[\"a\",\"f\",\"r\",\"u\",\"b\"] \n",
    "marks.reverse()\n",
    "print(marks)"
   ]
  },
  {
   "cell_type": "code",
   "execution_count": 13,
   "id": "305de709-8e79-48eb-8347-bce72e681153",
   "metadata": {},
   "outputs": [
    {
     "name": "stdout",
     "output_type": "stream",
     "text": [
      "[1, 5, 4, 5, 6, 3, 8, 9, 11]\n"
     ]
    }
   ],
   "source": [
    "#list method \n",
    "#.insert () method\n",
    "marks = [1,4,5,6,3,8,9,11] \n",
    "marks.insert(1,5)\n",
    "print(marks)"
   ]
  },
  {
   "cell_type": "code",
   "execution_count": 14,
   "id": "575fb895-3db0-4a51-b21f-21a9917cb723",
   "metadata": {},
   "outputs": [
    {
     "name": "stdout",
     "output_type": "stream",
     "text": [
      "[4, 5, 6, 3, 8, 9, 11]\n"
     ]
    }
   ],
   "source": [
    "#list method \n",
    "#.remove () method\n",
    "marks = [1,4,5,6,3,8,9,11] \n",
    "marks.remove(1)\n",
    "print(marks)"
   ]
  },
  {
   "cell_type": "code",
   "execution_count": 15,
   "id": "1dfea5e9-e3f9-4919-b205-924db7691852",
   "metadata": {},
   "outputs": [
    {
     "name": "stdout",
     "output_type": "stream",
     "text": [
      "[1, 4, 5, 6, 3, 9, 11]\n"
     ]
    }
   ],
   "source": [
    "#list method \n",
    "#.pop () method\n",
    "marks = [1,4,5,6,3,8,9,11] #.pop delete the value at index (5)\n",
    "marks.pop(5)\n",
    "print(marks)#list are printed except valu at index(5) which is 8."
   ]
  },
  {
   "cell_type": "markdown",
   "id": "b33a20b4-0d09-4fb0-8731-4c6112d951b0",
   "metadata": {},
   "source": [
    "### tuple"
   ]
  },
  {
   "cell_type": "code",
   "execution_count": 16,
   "id": "d905f050-0e8f-4b49-b44d-08bb97bc3e87",
   "metadata": {},
   "outputs": [
    {
     "name": "stdout",
     "output_type": "stream",
     "text": [
      "(1, 3, 6, 7, 4, 8, 9, 15, 16)\n",
      "<class 'tuple'>\n",
      "1\n",
      "7\n"
     ]
    }
   ],
   "source": [
    "#a built in data type that let us create immuteable sequences of values.\n",
    "tup =(1,3,6,7,4,8,9,15,16)\n",
    "print(tup)\n",
    "print(type(tup))\n",
    "print(tup[0])\n",
    "print(tup[3])"
   ]
  },
  {
   "cell_type": "markdown",
   "id": "66383ad8-fb5d-4405-b230-0b5a93440c41",
   "metadata": {},
   "source": [
    "### tuple methods"
   ]
  },
  {
   "cell_type": "code",
   "execution_count": 17,
   "id": "69214766-72ce-4a6e-9d57-db290f783509",
   "metadata": {},
   "outputs": [
    {
     "name": "stdout",
     "output_type": "stream",
     "text": [
      "7\n"
     ]
    }
   ],
   "source": [
    "#.index methods (return index of first occuerance)\n",
    "tup =(1,3,6,7,4,8,9,15,16)\n",
    "print(tup.index(15))"
   ]
  },
  {
   "cell_type": "code",
   "execution_count": 18,
   "id": "2fbe099b-3a44-4e27-bfe8-911a477494f5",
   "metadata": {},
   "outputs": [
    {
     "name": "stdout",
     "output_type": "stream",
     "text": [
      "3\n"
     ]
    }
   ],
   "source": [
    "#tuple methods\n",
    "#.count() methods (count total occuerance)\n",
    "tup =(1,3,6,7,4,8,9,15,16,15,15)\n",
    "print(tup.count(15))"
   ]
  },
  {
   "cell_type": "code",
   "execution_count": 19,
   "id": "eac0141c-e134-4a02-9efb-a39a565ad509",
   "metadata": {},
   "outputs": [
    {
     "name": "stdin",
     "output_type": "stream",
     "text": [
      "enter first movie:  Dead pool vs wolvrien\n",
      "enter first movie:  x men\n",
      "enter first movie:  spider man\n"
     ]
    },
    {
     "name": "stdout",
     "output_type": "stream",
     "text": [
      "['Dead pool vs wolvrien', 'x men', 'spider man']\n"
     ]
    }
   ],
   "source": [
    "#Question  1 \n",
    "#Wap to ask user to enter three favorite movies name and store them into a list.\n",
    "movie = []\n",
    "mov1 = input(\"enter first movie: \")\n",
    "movie.append(mov1)\n",
    "mov2 = input(\"enter first movie: \")\n",
    "movie.append(mov2)\n",
    "mov3 = input(\"enter first movie: \")\n",
    "movie.append(mov3)\n",
    "print(movie)"
   ]
  },
  {
   "cell_type": "code",
   "execution_count": 20,
   "id": "badfd260-9021-4c3a-8793-bc63d5f13cd2",
   "metadata": {},
   "outputs": [
    {
     "name": "stdout",
     "output_type": "stream",
     "text": [
      "PLINDROME\n"
     ]
    }
   ],
   "source": [
    "#Question 2\n",
    "#wap to check list if a list contains plindrome elements or not.\n",
    "list1 = [1,2,1]\n",
    "copy_list1 = list1.copy()\n",
    "copy_list1.reverse()\n",
    "if(copy_list1 == list1):\n",
    " print(\"PLINDROME\")\n",
    "else:\n",
    " print(\"NOT PLINDROME\")"
   ]
  },
  {
   "cell_type": "code",
   "execution_count": 21,
   "id": "f5c059da-065b-49c8-b4f2-33485aedadef",
   "metadata": {},
   "outputs": [
    {
     "name": "stdout",
     "output_type": "stream",
     "text": [
      "['A', 'A', 'A', 'B', 'B', 'C', 'D']\n"
     ]
    }
   ],
   "source": [
    "#Question 3\n",
    "#Wap to count the number of students with A grade in a following tuple.\n",
    "[\"C\",\"D\",\"A\",\"A\",\"B\",\"B\",\"A\"]\n",
    "grade = [\"C\",\"D\",\"A\",\"A\",\"B\",\"B\",\"A\"]\n",
    "grade.sort()\n",
    "print(grade)"
   ]
  },
  {
   "cell_type": "code",
   "execution_count": null,
   "id": "5f7f6a57-bc7d-4fc1-bb64-a506ec9af014",
   "metadata": {},
   "outputs": [],
   "source": []
  }
 ],
 "metadata": {
  "kernelspec": {
   "display_name": "Python 3 (ipykernel)",
   "language": "python",
   "name": "python3"
  },
  "language_info": {
   "codemirror_mode": {
    "name": "ipython",
    "version": 3
   },
   "file_extension": ".py",
   "mimetype": "text/x-python",
   "name": "python",
   "nbconvert_exporter": "python",
   "pygments_lexer": "ipython3",
   "version": "3.11.7"
  }
 },
 "nbformat": 4,
 "nbformat_minor": 5
}
