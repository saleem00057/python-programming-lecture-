{
 "cells": [
  {
   "cell_type": "markdown",
   "id": "4ae57f61-4446-4b42-8a79-812d297ef1cf",
   "metadata": {},
   "source": [
    "### OOPS (object oriented programming system)\n",
    "* To map with real world scenarios,we started using objects in code,this is called object oriented programming.\n"
   ]
  },
  {
   "cell_type": "markdown",
   "id": "9c4be792-7c70-4dbf-a1df-e4fb8c06ea16",
   "metadata": {},
   "source": [
    "### class and object in python\n",
    "* class is a blue print for creating objects."
   ]
  },
  {
   "cell_type": "code",
   "execution_count": 1,
   "id": "600186c9-9854-4f46-a64a-a46c5ccb1525",
   "metadata": {},
   "outputs": [
    {
     "name": "stdout",
     "output_type": "stream",
     "text": [
      "Saleem\n",
      "Qasim Hassan\n",
      "Python\n",
      "98\n",
      "Saleem\n"
     ]
    }
   ],
   "source": [
    "class Student: #This is class \n",
    "    name =\"Saleem\" \n",
    "    subject = \"Python\"\n",
    "    trainer_name = \"Qasim Hassan\"\n",
    "    obtaind_marks = \"98\"\n",
    "\n",
    "s1 =Student() #creating an object\n",
    "print(s1.name)\n",
    "print(s1.trainer_name)\n",
    "print(s1.subject)\n",
    "print(s1.obtaind_marks)\n",
    "\n",
    "s2=Student() #This is object\n",
    "print(s2.name)  "
   ]
  },
  {
   "cell_type": "code",
   "execution_count": 2,
   "id": "879a817b-cce9-41c7-aa59-f6378c53fadc",
   "metadata": {},
   "outputs": [
    {
     "name": "stdout",
     "output_type": "stream",
     "text": [
      "Black\n",
      "Mercedes\n"
     ]
    }
   ],
   "source": [
    "class Car(): \n",
    "    color = \"Black\"\n",
    "    \n",
    "    brand = \"Mercedes\"\n",
    "    \n",
    "car = Car()\n",
    "print(car.color)\n",
    "print(car.brand)"
   ]
  },
  {
   "cell_type": "markdown",
   "id": "b4ed7bc7-3ac7-48e1-9358-e5745e21339d",
   "metadata": {},
   "source": [
    "## --init-- function\n",
    "### Constructor\n",
    "* all classes have a function that is called __init__ () function, which is always executed when the object is being initiated."
   ]
  },
  {
   "cell_type": "code",
   "execution_count": 3,
   "id": "871a9d1d-a4d9-44e7-ab58-5b507820c658",
   "metadata": {},
   "outputs": [
    {
     "name": "stdout",
     "output_type": "stream",
     "text": [
      "adding new name and marks in student database..\n",
      "Saleem 98\n",
      "adding new name and marks in student database..\n",
      "Ali 97\n"
     ]
    }
   ],
   "source": [
    "# def__init__() is constructor\n",
    "class Student():\n",
    "    def __init__(self,name,marks): #self is a parameter... \n",
    "        self.name = name\n",
    "        self.marks = marks\n",
    "        print(\"adding new name and marks in student database..\") \n",
    "s1= Student(\"Saleem\",98)\n",
    "print(s1.name,s1.marks)   \n",
    "s2= Student(\"Ali\",97)\n",
    "print(s2.name,s2.marks)"
   ]
  },
  {
   "cell_type": "markdown",
   "id": "ece951c2-7700-4471-bd22-482f8a863198",
   "metadata": {},
   "source": [
    "### class and instance(Object)attributes"
   ]
  },
  {
   "cell_type": "code",
   "execution_count": 4,
   "id": "390d13ee-8bdd-46a2-9394-b57c105d3219",
   "metadata": {},
   "outputs": [
    {
     "name": "stdout",
     "output_type": "stream",
     "text": [
      "adding new name and marks in student database..\n",
      "Saleem 98 xyz college\n",
      "adding new name and marks in student database..\n",
      "Ali 97 xyz college\n"
     ]
    }
   ],
   "source": [
    "class Student():\n",
    "    college_name = \"xyz college\" #class attribute\n",
    "\n",
    "    def __init__(self,name,marks):  \n",
    "        self.name = name #object attribute\n",
    "        self.marks = marks\n",
    "        print(\"adding new name and marks in student database..\") \n",
    "s1= Student(\"Saleem\",98)\n",
    "print(s1.name,s1.marks,s1.college_name)   \n",
    "s2= Student(\"Ali\",97)\n",
    "print(s2.name,s2.marks,s2.college_name)"
   ]
  },
  {
   "cell_type": "markdown",
   "id": "f0d941fa-9970-4a78-a0b3-fe8f9bd094da",
   "metadata": {},
   "source": [
    "### Methods\n",
    "* methods are functions that belong to objects."
   ]
  },
  {
   "cell_type": "code",
   "execution_count": 5,
   "id": "e8a590de-3737-4c99-856d-21381d4f201c",
   "metadata": {},
   "outputs": [
    {
     "name": "stdout",
     "output_type": "stream",
     "text": [
      "welcome student, Saleem\n",
      "97\n"
     ]
    }
   ],
   "source": [
    "class Student():\n",
    "    college_name = \"xyz college\" #class attribute\n",
    "\n",
    "    def __init__(self,name,marks):  \n",
    "        self.name = name #object attribute\n",
    "        self.marks = marks\n",
    "    def welcome(self):\n",
    "        print(\"welcome student,\",self.name)\n",
    "    def get_marks(self):\n",
    "        return self.marks \n",
    "    \n",
    "s1 = Student(\"Saleem\",97)\n",
    "s1.welcome()\n",
    "print(s1.get_marks())"
   ]
  },
  {
   "cell_type": "markdown",
   "id": "d9eb367b-838e-4026-b672-fb47180b0ce9",
   "metadata": {},
   "source": [
    "### Question 1 create student class that takes name and marks of 3 subjects as arguments in constructor.then create a method to print the average?"
   ]
  },
  {
   "cell_type": "code",
   "execution_count": 6,
   "id": "2d74c4d0-2388-4e7c-8e2d-77c0c6ffa3f2",
   "metadata": {},
   "outputs": [
    {
     "name": "stdout",
     "output_type": "stream",
     "text": [
      "hi Saleem your avg score is: 98.0\n"
     ]
    }
   ],
   "source": [
    "class Student:\n",
    "    def __init__(self,name,marks): #creating a class\n",
    "        self.name = name\n",
    "        self.marks = marks\n",
    "    def get_avg(self): #get the avg marks using for loop\n",
    "         sum = 0\n",
    "         for val in self.marks:\n",
    "            sum += val\n",
    "         print(\"hi\",self.name,\"your avg score is:\",sum/3)\n",
    "s1 = Student(\"Saleem\", [98, 99, 97]) #passing values in constructor\n",
    "s1.get_avg()\n"
   ]
  },
  {
   "cell_type": "markdown",
   "id": "7119ed6d-3992-44dc-8f03-4759f6937772",
   "metadata": {},
   "source": [
    "### Static methods\n",
    "* methods that don't use the self parameter (work at class level)\n",
    "* **decorator allows us to wrape another function in order to extend the behaviour of wrapped function,without premanently modifying it.        "
   ]
  },
  {
   "cell_type": "code",
   "execution_count": 7,
   "id": "58151928-b76a-4155-8720-a257da5d3663",
   "metadata": {},
   "outputs": [],
   "source": [
    "class Student:\n",
    "    @staticmethod #decorator\n",
    "    def college():\n",
    "        print(\"abc College\")"
   ]
  },
  {
   "cell_type": "markdown",
   "id": "62a40e58-2e24-4689-bccb-534945d2674a",
   "metadata": {},
   "source": [
    "## Important\n",
    "### Abstraction\n",
    "* Hiding the implemention details of a class and only showing the essential features to the user.\n",
    "### Encapsulation\n",
    "* Warping data and functions into single unit (object)\n"
   ]
  },
  {
   "cell_type": "markdown",
   "id": "a787f4df-d59a-424a-be84-427f13ec5304",
   "metadata": {},
   "source": [
    "### Question 2 create a account class with 2 attribute - balance & account no.create methods for debit,credit & printing the balance."
   ]
  },
  {
   "cell_type": "code",
   "execution_count": 8,
   "id": "83b6bab6-71de-49b5-bc0d-2f966bd136f4",
   "metadata": {},
   "outputs": [
    {
     "name": "stdout",
     "output_type": "stream",
     "text": [
      "Rs. 1000 was debited\n",
      "total balance =  9000\n",
      "Rs. 500 was credit\n",
      "total balance =  9500\n",
      "Rs. 40000 was debited\n",
      "total balance =  -30500\n",
      "Rs. 40000 was credit\n",
      "total balance =  9500\n"
     ]
    }
   ],
   "source": [
    "class Account:\n",
    "    def __init__(self,bal,acc):\n",
    "        self.balance = bal\n",
    "        self.account_no = acc\n",
    "        \n",
    "#creating debit method\n",
    "    def debit(self , amount):\n",
    "        self.balance -= amount\n",
    "        print(\"Rs.\",amount,\"was debited\")\n",
    "        print(\"total balance = \", self.get_balance())\n",
    "\n",
    "#creating credit method\n",
    "    def credit(self , amount):\n",
    "        self.balance += amount\n",
    "        print(\"Rs.\",amount,\"was credit\")\n",
    "        print(\"total balance = \", self.get_balance())\n",
    "    \n",
    "#return final balance \n",
    "    def get_balance(self):\n",
    "        return self.balance\n",
    "   \n",
    "acc1 = Account (10000,12345)\n",
    "acc1.debit(1000)\n",
    "acc1.credit(500)\n",
    "acc1.debit(40000)\n",
    "acc1.credit(40000)"
   ]
  },
  {
   "cell_type": "code",
   "execution_count": null,
   "id": "c9b99a27-a267-46b5-b3d2-0671c97ee48a",
   "metadata": {},
   "outputs": [],
   "source": []
  }
 ],
 "metadata": {
  "kernelspec": {
   "display_name": "Python 3 (ipykernel)",
   "language": "python",
   "name": "python3"
  },
  "language_info": {
   "codemirror_mode": {
    "name": "ipython",
    "version": 3
   },
   "file_extension": ".py",
   "mimetype": "text/x-python",
   "name": "python",
   "nbconvert_exporter": "python",
   "pygments_lexer": "ipython3",
   "version": "3.11.7"
  }
 },
 "nbformat": 4,
 "nbformat_minor": 5
}
