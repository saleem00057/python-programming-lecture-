{
 "cells": [
  {
   "cell_type": "markdown",
   "id": "a4c80be1-da50-4f7a-b928-8ae43e935339",
   "metadata": {},
   "source": [
    "### veriable and data type"
   ]
  },
  {
   "cell_type": "code",
   "execution_count": 1,
   "id": "e87c2922-0a37-4fe6-af74-fafd422fb272",
   "metadata": {},
   "outputs": [
    {
     "name": "stdout",
     "output_type": "stream",
     "text": [
      "Hello world\n"
     ]
    }
   ],
   "source": [
    "print(\"Hello world\")"
   ]
  },
  {
   "cell_type": "code",
   "execution_count": 2,
   "id": "8ce928d2-ff35-42c2-bf5a-c02bebbbe5f3",
   "metadata": {},
   "outputs": [],
   "source": [
    "#print is s built in function and Hello world is a input"
   ]
  },
  {
   "cell_type": "markdown",
   "id": "2ec153ff-0926-4562-a434-d74fe713613f",
   "metadata": {},
   "source": [
    "### python character set"
   ]
  },
  {
   "cell_type": "code",
   "execution_count": 3,
   "id": "91a0ccab-a293-4fb3-bef1-0e679254a3b8",
   "metadata": {},
   "outputs": [],
   "source": [
    "#letter A to Z a to z\n",
    "#Digits 0 to 9.\n",
    "#special symbols - + * / etc.\n",
    "# whitespace,blank space,tab,Carriage return,new line,formfeed.\n",
    "#Other character python can process all ASCII and Unicode character as part of data or literals."
   ]
  },
  {
   "cell_type": "code",
   "execution_count": 4,
   "id": "c80d283e-f9a6-4146-9cf5-c87d9306f642",
   "metadata": {},
   "outputs": [
    {
     "name": "stdout",
     "output_type": "stream",
     "text": [
      "My name is Saleem. My age is 30\n"
     ]
    }
   ],
   "source": [
    "print(\"My name is Saleem.\",\"My age is 30\")"
   ]
  },
  {
   "cell_type": "code",
   "execution_count": 5,
   "id": "3fe1d6aa-4610-4a7e-bc26-a85b242b1df5",
   "metadata": {},
   "outputs": [],
   "source": [
    "#Veriable \n",
    "#a veriable is name given to a memory location in program.\n",
    "#Veriable\n",
    "name = \"Saleem\" #String\n",
    "age = 30 #integer\n",
    "wieght = 68.5# float"
   ]
  },
  {
   "cell_type": "code",
   "execution_count": 6,
   "id": "21fd4151-e952-4d96-a782-e239b6f18c04",
   "metadata": {},
   "outputs": [
    {
     "name": "stdout",
     "output_type": "stream",
     "text": [
      "Saleem\n",
      "30\n",
      "68.5\n"
     ]
    }
   ],
   "source": [
    "print(name)\n",
    "print(age)\n",
    "print(wieght)     "
   ]
  },
  {
   "cell_type": "code",
   "execution_count": 7,
   "id": "18c2aea8-2110-4ff2-aaad-f56269d9ea6a",
   "metadata": {},
   "outputs": [
    {
     "name": "stdout",
     "output_type": "stream",
     "text": [
      "my name is: Saleem\n",
      "my age is: 30\n",
      "my wieght is: 68.5\n"
     ]
    }
   ],
   "source": [
    "print(\"my name is:\",name)\n",
    "print(\"my age is:\",age)\n",
    "print(\"my wieght is:\",wieght)"
   ]
  },
  {
   "cell_type": "markdown",
   "id": "ab57def4-a57b-43a6-9183-e06c2739be9b",
   "metadata": {},
   "source": [
    "### string ,integer,float"
   ]
  },
  {
   "cell_type": "code",
   "execution_count": 8,
   "id": "ff2fd896-2eda-4c61-b7c1-091d844c4de2",
   "metadata": {},
   "outputs": [
    {
     "name": "stdout",
     "output_type": "stream",
     "text": [
      "my name is: Muhammad Saleem\n",
      "my age is: 31\n",
      "my weight is: 69.5\n"
     ]
    }
   ],
   "source": [
    "name = \"Muhammad Saleem\" #string\n",
    "age = 31 #integer\n",
    "wieght = 69.5 # float\n",
    "print(\"my name is:\",name)\n",
    "print(\"my age is:\", age)\n",
    "print(\"my weight is:\",wieght)\n",
    "\n"
   ]
  },
  {
   "cell_type": "markdown",
   "id": "6c74a984-5008-4aaf-bda7-f8a9e4afde18",
   "metadata": {},
   "source": [
    "### Rules for identifiers"
   ]
  },
  {
   "cell_type": "code",
   "execution_count": 9,
   "id": "44faa8e8-d2dc-4ce5-a89e-81b7dda297ce",
   "metadata": {},
   "outputs": [],
   "source": [
    "#Identifiers can be combination of upper case,lower case letters dights and underscore (_) so veriable1,veriable_1 VERIABLE is a vaild indentifiers in python\n",
    "#a veriable cannot start with digits like 1veriable or 1_veriable is not a vaild veriable \n",
    "#we cannot use spiecial symbols like &*^%$#@ in our identifiersabs\n",
    "#identifires can be an any leangth"
   ]
  },
  {
   "cell_type": "markdown",
   "id": "cef4d509-ac04-4659-af97-7059b11fcf05",
   "metadata": {},
   "source": [
    "### data types in python \n",
    "* string,integer,float,boolean,None"
   ]
  },
  {
   "cell_type": "code",
   "execution_count": 10,
   "id": "0895a850-0229-4edf-96a0-6631b468e6a5",
   "metadata": {},
   "outputs": [
    {
     "name": "stdout",
     "output_type": "stream",
     "text": [
      "<class 'str'>\n",
      "<class 'int'>\n",
      "<class 'float'>\n"
     ]
    }
   ],
   "source": [
    "#data type of veriables in python\n",
    "print(type(name))\n",
    "print(type(age))\n",
    "print(type(wieght))"
   ]
  },
  {
   "cell_type": "code",
   "execution_count": 11,
   "id": "c56e52b2-ada9-444f-8970-674a1d70d7a7",
   "metadata": {},
   "outputs": [
    {
     "name": "stdout",
     "output_type": "stream",
     "text": [
      "None\n",
      "True\n"
     ]
    }
   ],
   "source": [
    "old = True\n",
    "a = None\n",
    "print(a)\n",
    "print(old)"
   ]
  },
  {
   "cell_type": "code",
   "execution_count": 12,
   "id": "a78fb2ee-a60b-4b78-a492-618ee65ebad4",
   "metadata": {},
   "outputs": [
    {
     "name": "stdout",
     "output_type": "stream",
     "text": [
      "<class 'bool'>\n",
      "<class 'NoneType'>\n"
     ]
    }
   ],
   "source": [
    "print(type(old))\n",
    "print(type(a))"
   ]
  },
  {
   "cell_type": "markdown",
   "id": "97538a83-4dc5-459b-b78d-325ab8d4be86",
   "metadata": {},
   "source": [
    "### keywords  "
   ]
  },
  {
   "cell_type": "code",
   "execution_count": 13,
   "id": "93ab7c90-df75-45ab-928d-977fee00b183",
   "metadata": {},
   "outputs": [],
   "source": [
    "#python is case sensitive language\n",
    "#keywords is a reserved words in python like:\n",
    "#as return True None Flase or pass if elif import raise etc..see table in book"
   ]
  },
  {
   "cell_type": "code",
   "execution_count": 14,
   "id": "64dc1b32-cd9c-4485-a517-b78b50fcb87f",
   "metadata": {},
   "outputs": [
    {
     "name": "stdout",
     "output_type": "stream",
     "text": [
      "6\n"
     ]
    }
   ],
   "source": [
    "#Exmaple add sum of two veriable\n",
    "a = 2\n",
    "b = 4\n",
    "sum = a+b\n",
    "print(sum)"
   ]
  },
  {
   "cell_type": "code",
   "execution_count": 15,
   "id": "f6689767-3968-4109-8a7d-57206ee0679e",
   "metadata": {},
   "outputs": [
    {
     "name": "stdout",
     "output_type": "stream",
     "text": [
      "-2\n"
     ]
    }
   ],
   "source": [
    "#Exmaple diffrence of two veriable\n",
    "a = 2\n",
    "b = 4\n",
    "diff = a-b\n",
    "print(diff)"
   ]
  },
  {
   "cell_type": "markdown",
   "id": "f06ec647-5cab-4126-abf8-7e9aa76e8283",
   "metadata": {},
   "source": [
    "### comments\n",
    "* single line and multi-line comments"
   ]
  },
  {
   "cell_type": "code",
   "execution_count": 16,
   "id": "4b37d6d3-5907-4d89-be46-3dce2a337e94",
   "metadata": {},
   "outputs": [
    {
     "data": {
      "text/plain": [
       "'  multi\\n-line \\ncomments\\n'"
      ]
     },
     "execution_count": 16,
     "metadata": {},
     "output_type": "execute_result"
    }
   ],
   "source": [
    "#hi i am a single comments \n",
    "\"\"\"  multi\n",
    "-line \n",
    "comments\n",
    "\"\"\"\n"
   ]
  },
  {
   "cell_type": "markdown",
   "id": "c9d6c2d8-e6d7-46cb-a476-7c00ee48b01e",
   "metadata": {},
   "source": [
    "### types of opraters\n",
    "* an oprater is symbols that perform certain opration between operands"
   ]
  },
  {
   "cell_type": "code",
   "execution_count": 17,
   "id": "94c9c6d9-c8b0-4858-a782-f72943089aa1",
   "metadata": {},
   "outputs": [],
   "source": [
    "#arithmatic opraters (-,+,*,/,%,**)\n",
    "#relational or comparsion opraters (==,!=,>,<,>=,<=)\n",
    "#assignment opraters (=,+=,*=,/=,%=,**=,-=)\n",
    "#logical  opraters (and,or,not)"
   ]
  },
  {
   "cell_type": "markdown",
   "id": "cccbdb7a-ff52-4869-b850-5c2f1c64b58f",
   "metadata": {},
   "source": [
    "### type conversion and type casting"
   ]
  },
  {
   "cell_type": "code",
   "execution_count": 18,
   "id": "aa560005-e805-48c0-b7d3-6424adc7de01",
   "metadata": {},
   "outputs": [
    {
     "name": "stdout",
     "output_type": "stream",
     "text": [
      "6.57\n",
      "3\n"
     ]
    }
   ],
   "source": [
    "#type conversion\n",
    "a = 4\n",
    "b = 2.57\n",
    "sum = a + b\n",
    "print(sum)\n",
    "#type casting\n",
    "a,b = 1,\"2\"\n",
    "c = int(b)\n",
    "sum = a + c\n",
    "print(sum)"
   ]
  },
  {
   "cell_type": "markdown",
   "id": "c961e040-8d81-4cde-9dce-96cb41716944",
   "metadata": {},
   "source": [
    "### input in python\n",
    "* input statement is used to accept values from user (using keyboard). "
   ]
  },
  {
   "cell_type": "code",
   "execution_count": 19,
   "id": "53b18014-6c2e-4373-8dd8-f1df37a29437",
   "metadata": {},
   "outputs": [
    {
     "name": "stdin",
     "output_type": "stream",
     "text": [
      "Enter your name Saleem\n"
     ]
    },
    {
     "name": "stdout",
     "output_type": "stream",
     "text": [
      "<class 'str'>\n"
     ]
    },
    {
     "name": "stdin",
     "output_type": "stream",
     "text": [
      "Enter your value 25\n"
     ]
    },
    {
     "name": "stdout",
     "output_type": "stream",
     "text": [
      "<class 'int'>\n"
     ]
    },
    {
     "name": "stdin",
     "output_type": "stream",
     "text": [
      "Enter your value 86.5\n"
     ]
    },
    {
     "name": "stdout",
     "output_type": "stream",
     "text": [
      "<class 'float'>\n"
     ]
    }
   ],
   "source": [
    "#input() results for input() is always a string\n",
    "#int (input()) integer\n",
    "#float(input()) float\n",
    "val = input(\"Enter your name\")\n",
    "print(type(val))\n",
    "val1 = int(input(\"Enter your value\"))\n",
    "print(type(val1))\n",
    "val2 = float(input(\"Enter your value\"))\n",
    "print(type(val2))"
   ]
  },
  {
   "cell_type": "code",
   "execution_count": 21,
   "id": "04708fe1-3fa0-4ee9-b608-51e4b3755b7d",
   "metadata": {},
   "outputs": [
    {
     "name": "stdin",
     "output_type": "stream",
     "text": [
      "Enter first num: 3\n",
      "Enter second num: 5\n"
     ]
    },
    {
     "name": "stdout",
     "output_type": "stream",
     "text": [
      "sum= 8\n"
     ]
    }
   ],
   "source": [
    "#Question 1 WAP to input two num and print sum.\n",
    "first = int(input(\"Enter first num:\"))\n",
    "second = int(input(\"Enter second num:\"))\n",
    "print(\"sum=\",first+ second)"
   ]
  },
  {
   "cell_type": "code",
   "execution_count": 22,
   "id": "aff99401-81eb-417d-9794-63a25d43ae06",
   "metadata": {},
   "outputs": [
    {
     "name": "stdin",
     "output_type": "stream",
     "text": [
      "Enter first num: 6\n",
      "Enter second num: 7\n"
     ]
    },
    {
     "name": "stdout",
     "output_type": "stream",
     "text": [
      "average= 6.5\n"
     ]
    }
   ],
   "source": [
    "#Question 2 WAP to input two float num and print thier average\n",
    "a = float(input(\"Enter first num:\"))\n",
    "b = float(input(\"Enter second num:\"))\n",
    "print(\"average=\",(a+b)/2)"
   ]
  },
  {
   "cell_type": "code",
   "execution_count": 23,
   "id": "214aa52d-e46f-4724-a68c-96a6604ac5f1",
   "metadata": {},
   "outputs": [
    {
     "name": "stdin",
     "output_type": "stream",
     "text": [
      "Enter first int num: 70\n",
      "Enter second int num: 90\n"
     ]
    },
    {
     "name": "stdout",
     "output_type": "stream",
     "text": [
      "False\n"
     ]
    }
   ],
   "source": [
    "#Question 3 WAP to input two int num a and b print True if a greater then equal to b and print False if a is not greater then equal to b.\n",
    "a = int(input(\"Enter first int num:\"))\n",
    "b = int(input(\"Enter second int num:\"))\n",
    "print(a>=b)"
   ]
  },
  {
   "cell_type": "code",
   "execution_count": null,
   "id": "d515bd2c-9360-4735-bcc5-0edf2f0cb0ce",
   "metadata": {},
   "outputs": [],
   "source": []
  },
  {
   "cell_type": "code",
   "execution_count": null,
   "id": "6b2a485e-dbef-43a9-88fe-fa9a409571a7",
   "metadata": {},
   "outputs": [],
   "source": []
  }
 ],
 "metadata": {
  "kernelspec": {
   "display_name": "Python 3 (ipykernel)",
   "language": "python",
   "name": "python3"
  },
  "language_info": {
   "codemirror_mode": {
    "name": "ipython",
    "version": 3
   },
   "file_extension": ".py",
   "mimetype": "text/x-python",
   "name": "python",
   "nbconvert_exporter": "python",
   "pygments_lexer": "ipython3",
   "version": "3.11.7"
  }
 },
 "nbformat": 4,
 "nbformat_minor": 5
}
