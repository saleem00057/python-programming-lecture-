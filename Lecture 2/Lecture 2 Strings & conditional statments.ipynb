{
 "cells": [
  {
   "cell_type": "markdown",
   "id": "0c2be9e0-10d8-4f49-889b-158c8025e7a1",
   "metadata": {},
   "source": [
    "### strings & conditional statments\n",
    "* strings"
   ]
  },
  {
   "cell_type": "code",
   "execution_count": 1,
   "id": "bc449aec-61bc-4626-8159-3434f3c05270",
   "metadata": {},
   "outputs": [
    {
     "name": "stdout",
     "output_type": "stream",
     "text": [
      "this is a string this is a string this is a string This is a string & conditional statment 's lecture\n"
     ]
    }
   ],
   "source": [
    "#string\n",
    "#string is a data type and that stores in sequence of charactere.\n",
    "str1 = \"this is a string\"\n",
    "str2 ='this is a string'\n",
    "str3 = \"\"\"this is a string\"\"\"\n",
    "str4 = \"This is a string & conditional statment 's lecture\"\n",
    "print(str1,str2,str3,str4)"
   ]
  },
  {
   "cell_type": "code",
   "execution_count": 2,
   "id": "6acdb4a0-8b44-4e93-9ef5-a940aa9b18cf",
   "metadata": {},
   "outputs": [
    {
     "name": "stdout",
     "output_type": "stream",
     "text": [
      "This is a strings & \n",
      " conditional statment \"s lectureThis is a strings & \t conditional statment \"s lecture\n"
     ]
    }
   ],
   "source": [
    "str5 = 'This is a strings & \\n conditional statment \"s lecture' #escape sequence charactere.\n",
    "str6 = 'This is a strings & \\t conditional statment \"s lecture' #escape sequence charactere.\n",
    "print(str5+str6)"
   ]
  },
  {
   "cell_type": "code",
   "execution_count": 3,
   "id": "49aa149d-19ea-4a7b-ae0f-bc7cc6a23438",
   "metadata": {},
   "outputs": [
    {
     "name": "stdout",
     "output_type": "stream",
     "text": [
      "Allahis Great\n"
     ]
    }
   ],
   "source": [
    "#Basic opration\n",
    "#concatination\n",
    "str1 = \"Allah\"\n",
    "str2 = \"is Great\"\n",
    "final_string = str1 + str2 \n",
    "print(final_string)"
   ]
  },
  {
   "cell_type": "code",
   "execution_count": 4,
   "id": "487b8a8e-60ac-4942-a562-ba0ae8bbf955",
   "metadata": {},
   "outputs": [
    {
     "name": "stdout",
     "output_type": "stream",
     "text": [
      "5\n",
      "Allah is Great\n",
      "14\n"
     ]
    }
   ],
   "source": [
    "#Basic opration\n",
    "#len() function\n",
    "str1 = \"Allah\"\n",
    "str2 = \"is Great\"\n",
    "print(len(str1))\n",
    "final_string = str1+\" \"+str2 \n",
    "print(final_string)\n",
    "print(len(final_string))"
   ]
  },
  {
   "cell_type": "code",
   "execution_count": 5,
   "id": "b4bea83a-957a-44c4-aff7-007b819d95ac",
   "metadata": {},
   "outputs": [
    {
     "name": "stdout",
     "output_type": "stream",
     "text": [
      "h\n"
     ]
    }
   ],
   "source": [
    "#Indexing\n",
    "#index , position of strings\n",
    "str1 = \"Allah\"\n",
    "str2 = \"is Great\"\n",
    "char = str1[4]\n",
    "print(char)"
   ]
  },
  {
   "cell_type": "code",
   "execution_count": 6,
   "id": "92882f07-de7a-4d2d-9c7a-4eac089ebd2e",
   "metadata": {},
   "outputs": [
    {
     "name": "stdout",
     "output_type": "stream",
     "text": [
      "alee\n"
     ]
    }
   ],
   "source": [
    "#slicing\n",
    "#accessing the parts of a string\n",
    "str1 = \"Saleem\"\n",
    "print(str1[1:5])"
   ]
  },
  {
   "cell_type": "code",
   "execution_count": 7,
   "id": "158f3286-5733-4c5b-838e-c4c5950ad94c",
   "metadata": {},
   "outputs": [
    {
     "name": "stdout",
     "output_type": "stream",
     "text": [
      "True\n"
     ]
    }
   ],
   "source": [
    "#string function\n",
    "str1 = \"i am studying python right now\"\n",
    "print(str1.endswith(\"now\")) #to check ends with sub string"
   ]
  },
  {
   "cell_type": "code",
   "execution_count": 8,
   "id": "a2647892-9f92-4394-80b0-236322d658af",
   "metadata": {},
   "outputs": [
    {
     "name": "stdout",
     "output_type": "stream",
     "text": [
      "I am studying python right now\n"
     ]
    }
   ],
   "source": [
    "#string function\n",
    "#.capitalize()\n",
    "str1 = \"i am studying python right now\"\n",
    "print(str1.capitalize()) #return with first capital captalize"
   ]
  },
  {
   "cell_type": "code",
   "execution_count": 9,
   "id": "f6c8773e-6ff5-4c6c-b7f5-b60e3739b401",
   "metadata": {},
   "outputs": [
    {
     "name": "stdout",
     "output_type": "stream",
     "text": [
      "i am studying java right now\n"
     ]
    }
   ],
   "source": [
    "#string function\n",
    "#.replace()\n",
    "str1 = \"i am studying python right now\"\n",
    "print(str1.replace(\"python\",\"java\")) #replace old value with new value "
   ]
  },
  {
   "cell_type": "code",
   "execution_count": 10,
   "id": "c1e58488-4e1a-4ea6-bedf-062269bff134",
   "metadata": {},
   "outputs": [
    {
     "name": "stdout",
     "output_type": "stream",
     "text": [
      "2\n"
     ]
    }
   ],
   "source": [
    "#string function\n",
    "#.find()\n",
    "str1 = \"i am studying python right now\"\n",
    "print(str1.find(\"a\")) #return first index of first occerance"
   ]
  },
  {
   "cell_type": "code",
   "execution_count": 11,
   "id": "a4015318-131a-4da5-aa39-e31b384ece39",
   "metadata": {},
   "outputs": [
    {
     "name": "stdout",
     "output_type": "stream",
     "text": [
      "3\n"
     ]
    }
   ],
   "source": [
    "#string function\n",
    "#.count\n",
    "str1 = \"i am studying python right now\"\n",
    "print(str1.count(\"i\")) #count the occerance of sub string"
   ]
  },
  {
   "cell_type": "code",
   "execution_count": 12,
   "id": "570d2c35-24ee-4adf-be48-a8533d14fafa",
   "metadata": {},
   "outputs": [
    {
     "name": "stdin",
     "output_type": "stream",
     "text": [
      "enter your name :  Muhammad Saleem\n"
     ]
    },
    {
     "name": "stdout",
     "output_type": "stream",
     "text": [
      "length of your name is 15\n"
     ]
    }
   ],
   "source": [
    "#Question 1\n",
    "#WAP to input user name and its length\n",
    "name = input(\"enter your name : \")\n",
    "print(\"length of your name is\", len(name))"
   ]
  },
  {
   "cell_type": "code",
   "execution_count": 13,
   "id": "45f0d155-8143-45f5-84b8-4cec1fb3246b",
   "metadata": {},
   "outputs": [
    {
     "name": "stdout",
     "output_type": "stream",
     "text": [
      "2\n"
     ]
    }
   ],
   "source": [
    " #Question 2\n",
    "#WAP to count $ sighn in a str\n",
    "str = \" hi i am a doller sighn $ 99$\"\n",
    "print(str.count(\"$\"))"
   ]
  },
  {
   "cell_type": "markdown",
   "id": "09b1b6b2-92ce-4131-bc52-6ec8a463f431",
   "metadata": {},
   "source": [
    "### conditional statments\n",
    "* if\n",
    "* elif \n",
    "* else statements"
   ]
  },
  {
   "cell_type": "code",
   "execution_count": 14,
   "id": "396109ab-fc3d-437f-8900-681d0bfc4be1",
   "metadata": {},
   "outputs": [
    {
     "name": "stdout",
     "output_type": "stream",
     "text": [
      "can vote and apply for driving lic\n"
     ]
    }
   ],
   "source": [
    "#if elif else statements\n",
    "age = 21\n",
    "if(age >= 18) :\n",
    "    print(\"can vote and apply for driving lic\")"
   ]
  },
  {
   "cell_type": "code",
   "execution_count": 15,
   "id": "0a81e456-d5c3-491e-a2e7-b5cb64b3de79",
   "metadata": {},
   "outputs": [
    {
     "name": "stdout",
     "output_type": "stream",
     "text": [
      "can go\n"
     ]
    }
   ],
   "source": [
    "#if elif else statements\n",
    "light = \"green\"\n",
    "if(light == \"green\"):\n",
    "    print(\"can go\")\n",
    "elif(light == \"red\"):\n",
    "    print(\"stop\")\n",
    "elif(light == \"yellow\"):\n",
    "    print(\"look\")"
   ]
  },
  {
   "cell_type": "code",
   "execution_count": 16,
   "id": "87468d1b-b52d-46a9-8f74-2ff704e620e8",
   "metadata": {},
   "outputs": [
    {
     "name": "stdin",
     "output_type": "stream",
     "text": [
      "Enter marks:  40\n"
     ]
    },
    {
     "name": "stdout",
     "output_type": "stream",
     "text": [
      "Grade F\n"
     ]
    }
   ],
   "source": [
    "#Question 1\n",
    "marks = int(input(\"Enter marks: \"))\n",
    "\n",
    "if marks >= 90:\n",
    "    print(\"Grade A\")\n",
    "elif marks >= 80:\n",
    "    print(\"Grade B\")\n",
    "elif marks >= 70:\n",
    "    print(\"Grade C\")\n",
    "elif marks > 60:\n",
    "    print(\"Grade D\")\n",
    "else:\n",
    "    print(\"Grade F\")"
   ]
  },
  {
   "cell_type": "code",
   "execution_count": 17,
   "id": "302bcc24-a438-4257-b408-22f8cad8d60e",
   "metadata": {},
   "outputs": [
    {
     "name": "stdin",
     "output_type": "stream",
     "text": [
      "num from user: 6\n"
     ]
    },
    {
     "name": "stdout",
     "output_type": "stream",
     "text": [
      "ODD\n"
     ]
    }
   ],
   "source": [
    "#Question 2\n",
    "#wap check the number entered by a user is odd or even\n",
    "num =int(input(\"num from user:\"))\n",
    "rem = num % 2\n",
    "if num == 0:\n",
    "    print(\"EVEN\")\n",
    "else:\n",
    "    print(\"ODD\")"
   ]
  },
  {
   "cell_type": "code",
   "execution_count": 18,
   "id": "b651294e-a830-4640-8daf-5fafec96725a",
   "metadata": {},
   "outputs": [
    {
     "name": "stdin",
     "output_type": "stream",
     "text": [
      "enter num 6\n"
     ]
    },
    {
     "name": "stdout",
     "output_type": "stream",
     "text": [
      "not multiple \n"
     ]
    }
   ],
   "source": [
    "#Question 3 \n",
    "#wap to check if num is multiple of 7 or not?\n",
    "x = int(input(\"enter num\"))\n",
    "if (x % 7 == 0):\n",
    "    print(\"multiple of 7\")\n",
    "else:\n",
    "    print(\"not multiple \") "
   ]
  },
  {
   "cell_type": "code",
   "execution_count": null,
   "id": "f00fe669-bf71-4774-9c97-0a712e7ab12d",
   "metadata": {},
   "outputs": [],
   "source": []
  }
 ],
 "metadata": {
  "kernelspec": {
   "display_name": "Python 3 (ipykernel)",
   "language": "python",
   "name": "python3"
  },
  "language_info": {
   "codemirror_mode": {
    "name": "ipython",
    "version": 3
   },
   "file_extension": ".py",
   "mimetype": "text/x-python",
   "name": "python",
   "nbconvert_exporter": "python",
   "pygments_lexer": "ipython3",
   "version": "3.11.7"
  }
 },
 "nbformat": 4,
 "nbformat_minor": 5
}
