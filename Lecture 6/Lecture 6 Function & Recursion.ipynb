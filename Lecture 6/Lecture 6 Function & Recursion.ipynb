{
 "cells": [
  {
   "cell_type": "markdown",
   "id": "8aec77be-8a8a-4f00-aa4d-6f6434280714",
   "metadata": {},
   "source": [
    "# Function & Recursion\n",
    "- Block of statments that perform a specific task is called function."
   ]
  },
  {
   "cell_type": "code",
   "execution_count": 1,
   "id": "526b17cd-3223-4e2d-ac2b-126f751ac497",
   "metadata": {},
   "outputs": [
    {
     "name": "stdout",
     "output_type": "stream",
     "text": [
      "66\n",
      "800\n"
     ]
    }
   ],
   "source": [
    "#block of statments \n",
    "a = 50\n",
    "b = 16\n",
    "\n",
    "sum = a + b\n",
    "print(sum)\n",
    "#repeated: redondency\n",
    "a = 50\n",
    "b = 16\n",
    "\n",
    "multiplication = a * b\n",
    "print(multiplication)"
   ]
  },
  {
   "cell_type": "code",
   "execution_count": 2,
   "id": "f22914c0-6f87-43dd-81fd-a8b7e86ad093",
   "metadata": {},
   "outputs": [],
   "source": [
    "#calculate multiplication of 2 numbers.\n",
    "def cal_multi(a ,b):\n",
    "   return a * b"
   ]
  },
  {
   "cell_type": "code",
   "execution_count": 3,
   "id": "46ffa74c-1ec5-4727-8d1e-64b5cbd88e17",
   "metadata": {},
   "outputs": [
    {
     "data": {
      "text/plain": [
       "35"
      ]
     },
     "execution_count": 3,
     "metadata": {},
     "output_type": "execute_result"
    }
   ],
   "source": [
    "cal_multi(5,7)"
   ]
  },
  {
   "cell_type": "code",
   "execution_count": 4,
   "id": "59520a57-b159-4f81-9d27-13f0573bff50",
   "metadata": {
    "scrolled": true
   },
   "outputs": [],
   "source": [
    "#calculate sum of 2 numbers.\n",
    "def cal_sum(a ,b):\n",
    "   return a + b"
   ]
  },
  {
   "cell_type": "code",
   "execution_count": 5,
   "id": "12d408ac-e3f5-4622-a822-d72424c4545c",
   "metadata": {},
   "outputs": [
    {
     "name": "stdout",
     "output_type": "stream",
     "text": [
      "63\n"
     ]
    }
   ],
   "source": [
    "print(cal_sum(40,23))"
   ]
  },
  {
   "cell_type": "code",
   "execution_count": 6,
   "id": "ea3e6fc4-1927-49af-9842-bbddaf27cd50",
   "metadata": {},
   "outputs": [],
   "source": [
    "#calculate avg of 3 numbers using function\n",
    "def cal_avg(a,b,c):\n",
    "    sum = a + b + c\n",
    "    avg = sum/3\n",
    "    return avg"
   ]
  },
  {
   "cell_type": "code",
   "execution_count": 7,
   "id": "6f3d1c2d-412c-4e49-a311-0e64b6fb03e1",
   "metadata": {},
   "outputs": [
    {
     "data": {
      "text/plain": [
       "2.0"
      ]
     },
     "execution_count": 7,
     "metadata": {},
     "output_type": "execute_result"
    }
   ],
   "source": [
    "cal_avg (1,3,2)"
   ]
  },
  {
   "cell_type": "code",
   "execution_count": 8,
   "id": "ac76a887-cf36-41e1-a57a-7bf2e014265f",
   "metadata": {},
   "outputs": [
    {
     "data": {
      "text/plain": [
       "12"
      ]
     },
     "execution_count": 8,
     "metadata": {},
     "output_type": "execute_result"
    }
   ],
   "source": [
    "#function defination\n",
    "def cal_multiplication (a,b): #(a,b) called function parameter\n",
    "   return a * b \n",
    "cal_multiplication(3,4) #function call ; arguments (3,4)"
   ]
  },
  {
   "cell_type": "markdown",
   "id": "a0cac548-4455-4e2b-b365-706a9d2c02b6",
   "metadata": {},
   "source": [
    " # Types of function\n",
    " ### built in function\n",
    "- print(),len(),index(),.type is a bulit in function\n",
    "### user defind function\n",
    "- function which write programmer or user is call user defind function"
   ]
  },
  {
   "cell_type": "markdown",
   "id": "3238af1d-a99f-4855-95fe-8b8bd1418cca",
   "metadata": {},
   "source": [
    "### default function\n",
    "- assining a defult value to parameter,which is used when no argument passed."
   ]
  },
  {
   "cell_type": "code",
   "execution_count": 9,
   "id": "34c1b724-ce4c-4161-a9e9-7c2616bee1d5",
   "metadata": {},
   "outputs": [],
   "source": [
    "def cal_sum(a=1,b=1):\n",
    "    print(a + b)\n",
    "    return a + b"
   ]
  },
  {
   "cell_type": "code",
   "execution_count": 10,
   "id": "c3955cd9-2006-4422-a193-12b1a70fbac3",
   "metadata": {},
   "outputs": [
    {
     "name": "stdout",
     "output_type": "stream",
     "text": [
      "2\n"
     ]
    },
    {
     "data": {
      "text/plain": [
       "2"
      ]
     },
     "execution_count": 10,
     "metadata": {},
     "output_type": "execute_result"
    }
   ],
   "source": [
    "cal_sum ()"
   ]
  },
  {
   "cell_type": "code",
   "execution_count": 11,
   "id": "0f9f74e0-ed62-40ba-b6ef-f4c015212072",
   "metadata": {},
   "outputs": [],
   "source": [
    "def cal_prod(a=1,b=1):\n",
    "    prod = a * b\n",
    "    print(prod)"
   ]
  },
  {
   "cell_type": "code",
   "execution_count": 12,
   "id": "ef2bc72e-bad3-4071-b85c-83863894d30e",
   "metadata": {},
   "outputs": [
    {
     "name": "stdout",
     "output_type": "stream",
     "text": [
      "1\n"
     ]
    }
   ],
   "source": [
    "cal_prod()"
   ]
  },
  {
   "cell_type": "code",
   "execution_count": 13,
   "id": "b09fb9c3-47fd-415a-99a1-46bcbc36d8d4",
   "metadata": {},
   "outputs": [],
   "source": [
    "def cal_prod(a,b=1): #you must pass an argument --> a,b=1 \n",
    "    prod = a * b\n",
    "    print(prod)"
   ]
  },
  {
   "cell_type": "code",
   "execution_count": 14,
   "id": "061d9fcf-b451-462e-9e82-b08d4f66bd2f",
   "metadata": {},
   "outputs": [
    {
     "name": "stdout",
     "output_type": "stream",
     "text": [
      "1\n"
     ]
    }
   ],
   "source": [
    "cal_prod(1)"
   ]
  },
  {
   "cell_type": "markdown",
   "id": "57bbc8ff-1648-4dd6-8930-226922bb1392",
   "metadata": {},
   "source": [
    "### Question 1\n",
    "- WAF to print a leangth of list (list is a parameter)\n"
   ]
  },
  {
   "cell_type": "code",
   "execution_count": 15,
   "id": "78762835-65b6-4ecc-b7bc-056aff8ba270",
   "metadata": {},
   "outputs": [],
   "source": [
    "cities = [\"Karchi\",\"Bahawalpur\",\"multan\",\"Islambad\",\"Lahore\",\"Peshawar\"]\n",
    "Heroes = [\"Batman\",\"Thore\",\"X men\",\"Deadpool\"]\n",
    "\n",
    "def print_len(cities):\n",
    "    return (len(cities))\n",
    "    \n",
    "    print_len(cities)\n",
    "    print_len(Heroes)"
   ]
  },
  {
   "cell_type": "markdown",
   "id": "56670266-3fa0-47f7-9f0d-a4ba096e1187",
   "metadata": {},
   "source": [
    "### Question 2 \n",
    "- write a function to print a elements of a list in a single line? (list is a parameter)"
   ]
  },
  {
   "cell_type": "code",
   "execution_count": 16,
   "id": "177c82a8-675d-4496-945d-bf4b18837e03",
   "metadata": {},
   "outputs": [
    {
     "name": "stdout",
     "output_type": "stream",
     "text": [
      "Karchi Bahawalpur multan Islambad Lahore Peshawar Batman Thore X men Deadpool "
     ]
    }
   ],
   "source": [
    "cities = [\"Karchi\",\"Bahawalpur\",\"multan\",\"Islambad\",\"Lahore\",\"Peshawar\"]\n",
    "Heroes = [\"Batman\",\"Thore\",\"X men\",\"Deadpool\"]\n",
    "def print_list(list):\n",
    "    for ele in list:\n",
    "        print(ele, end=\" \")\n",
    "\n",
    "print_list(cities)\n",
    "print_list(Heroes)"
   ]
  },
  {
   "cell_type": "markdown",
   "id": "439ba6ea-d5b0-49e7-9a15-afac39853a6b",
   "metadata": {},
   "source": [
    "### Question 3 \n",
    "- WAF to find factorial of n .(n is parameter)"
   ]
  },
  {
   "cell_type": "code",
   "execution_count": 18,
   "id": "b289b264-f699-4cff-8dcc-98780ba2fb0f",
   "metadata": {},
   "outputs": [
    {
     "name": "stdin",
     "output_type": "stream",
     "text": [
      "Factorial of n : 5\n"
     ]
    },
    {
     "name": "stdout",
     "output_type": "stream",
     "text": [
      "120\n"
     ]
    }
   ],
   "source": [
    "n = int (input(\"Factorial of n :\"))\n",
    "def cal_fact (n):\n",
    "    fact = 1\n",
    "    for i in range(1,n+1):\n",
    "        fact *= i\n",
    "    print(fact)\n",
    "cal_fact(n)"
   ]
  },
  {
   "cell_type": "markdown",
   "id": "8ebf2ec5-0117-4f88-b906-efd2b9d4b111",
   "metadata": {},
   "source": [
    "### Question 4\n",
    "- WAF to convert USD to PKR."
   ]
  },
  {
   "cell_type": "code",
   "execution_count": 19,
   "id": "697afde8-2d94-439b-82c6-928150734ab1",
   "metadata": {},
   "outputs": [
    {
     "name": "stdout",
     "output_type": "stream",
     "text": [
      "100 USD 27000 PKR\n"
     ]
    }
   ],
   "source": [
    "def converter(usd_valu):\n",
    "    Pkr_valu = usd_valu * 270  #------> 1 USD = 270 PKR\n",
    "    print(usd_valu,\"USD\",Pkr_valu,\"PKR\")\n",
    "converter(100)    "
   ]
  },
  {
   "cell_type": "markdown",
   "id": "faaf3910-9cdc-4888-a04f-fbcb3f4928f4",
   "metadata": {},
   "source": [
    "### Question 5\n",
    "- input a number from user if num is odd then print \"ODD\" if not then print \"EVEN\""
   ]
  },
  {
   "cell_type": "code",
   "execution_count": 20,
   "id": "8f54ad9d-41c5-4c13-9ec8-e58037a22084",
   "metadata": {},
   "outputs": [
    {
     "name": "stdin",
     "output_type": "stream",
     "text": [
      "Number enter from user 6\n"
     ]
    },
    {
     "name": "stdout",
     "output_type": "stream",
     "text": [
      "EVEN\n"
     ]
    }
   ],
   "source": [
    "# Input a number from the user\n",
    "num =int(input(\"Number enter from user\"))\n",
    "def check_odd_or_even():\n",
    "    if num % 2 == 0: # Check if the number is odd or even\n",
    "     print(\"EVEN\")\n",
    "    else:\n",
    "     print(\"ODD\")\n",
    "check_odd_or_even()    "
   ]
  },
  {
   "cell_type": "markdown",
   "id": "45d9f4e0-097e-4c5e-948f-408ab2ec3f54",
   "metadata": {},
   "source": [
    "# Recursion\n",
    "- when a function calls itself repeatedly\n",
    "- Recursion in Python refers to the process where a function calls itself in order to solve a problem. It involves breaking 'down a complex problem into smaller sub-problems of the same type. The recursive function typically includes two parts'"
   ]
  },
  {
   "cell_type": "code",
   "execution_count": 21,
   "id": "1d408d79-8ef0-47d3-b83c-dc9dcb5068cf",
   "metadata": {},
   "outputs": [
    {
     "name": "stdout",
     "output_type": "stream",
     "text": [
      "10\n",
      "9\n",
      "8\n",
      "7\n",
      "6\n",
      "5\n",
      "4\n",
      "3\n",
      "2\n",
      "1\n",
      "0\n"
     ]
    }
   ],
   "source": [
    "#recursive function\n",
    "def show(n):\n",
    "    if(n == -1): #Base Case\n",
    "         return\n",
    "    print(n)\n",
    "    show(n-1)\n",
    "show(10)        "
   ]
  },
  {
   "cell_type": "markdown",
   "id": "2225e015-19a7-4e33-acc4-92df25b230ea",
   "metadata": {},
   "source": [
    "### Recursion"
   ]
  },
  {
   "cell_type": "code",
   "execution_count": 22,
   "id": "09e9a9f8-ad77-420a-9ec4-0033da587629",
   "metadata": {},
   "outputs": [
    {
     "name": "stdout",
     "output_type": "stream",
     "text": [
      "120\n"
     ]
    }
   ],
   "source": [
    "#Recursion through factorial\n",
    "def fact(n):\n",
    "    if(n == 0 or n == 1): #Base Case: A condition to stop the recursion, preventing it from going on indefinitely.\n",
    "        return 1\n",
    "    else:\n",
    "        return fact(n-1) * n \n",
    "print(fact(5))        "
   ]
  },
  {
   "cell_type": "code",
   "execution_count": null,
   "id": "52104062-acff-4b21-ac09-41cd4b5d00ad",
   "metadata": {},
   "outputs": [],
   "source": []
  }
 ],
 "metadata": {
  "kernelspec": {
   "display_name": "Python 3 (ipykernel)",
   "language": "python",
   "name": "python3"
  },
  "language_info": {
   "codemirror_mode": {
    "name": "ipython",
    "version": 3
   },
   "file_extension": ".py",
   "mimetype": "text/x-python",
   "name": "python",
   "nbconvert_exporter": "python",
   "pygments_lexer": "ipython3",
   "version": "3.11.7"
  }
 },
 "nbformat": 4,
 "nbformat_minor": 5
}
