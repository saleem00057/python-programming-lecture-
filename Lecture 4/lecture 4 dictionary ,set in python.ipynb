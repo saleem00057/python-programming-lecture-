{
 "cells": [
  {
   "cell_type": "markdown",
   "id": "9f71ec55-13e0-4314-a935-1255398603c6",
   "metadata": {},
   "source": [
    "### dictionary ,sets in python\r",
    "## Dictionary\n",
    "* a dictionary are used to store data values in key:value pairs they are un orederd muteable(changeable) and dont allow dublicate keys\n"
   ]
  },
  {
   "cell_type": "code",
   "execution_count": 36,
   "id": "0bd8d13b-5e9a-4bd2-9265-733ca0ee1caa",
   "metadata": {},
   "outputs": [
    {
     "name": "stdout",
     "output_type": "stream",
     "text": [
      "{'name': 'saleem', 'age': 30, 'wieght': 68.5, 'is_adult': True, 'marks': 94.8, 45.6: 94.8}\n",
      "<class 'dict'>\n"
     ]
    }
   ],
   "source": [
    "info ={\n",
    "    \"name\":\"saleem\",\n",
    "    \"age\" : 30,\n",
    "    \"wieght\" : 68.5,\n",
    "    \"is_adult\": True,\n",
    "    \"marks\":94.8,\n",
    "    45.6 :94.8,\n",
    "}\n",
    "print(info)\n",
    "print(type(info))"
   ]
  },
  {
   "cell_type": "code",
   "execution_count": 32,
   "id": "090a83f2-9522-4cb0-b4d3-dcb32ebd7ccd",
   "metadata": {},
   "outputs": [
    {
     "name": "stdout",
     "output_type": "stream",
     "text": [
      "Muhammad Saleem\n",
      "94.8\n"
     ]
    }
   ],
   "source": [
    "#muteable(changeable) Remember !!! dont allow dublicate keys.\n",
    "info_trainee ={\n",
    "    \"name\":\"saleem\",\n",
    "    \"age\" : [\"saleem\", \"trainee\",\"python\",\"java script\",\"c\"],\n",
    "    \"wieght\" : (\"pakistan\",\"zindabad\",\"dictionary\",\"set\"),\n",
    "    \"is_adult\":True,\n",
    "    \"marks\":94.8,\n",
    "    12 : 12.45,\n",
    "    45.6 : 94.8\n",
    "}\n",
    "info_trainee[\"name\"] = \"Muhammad Saleem\" #Assingend new value\n",
    "#info_trainee[\"First name\"] = \"Muhammad\"\n",
    "#print(info_trainee)\n",
    "print(info_trainee[\"name\"])\n",
    "print(info_trainee[45.6])"
   ]
  },
  {
   "cell_type": "code",
   "execution_count": 3,
   "id": "3b576d2c-8d9c-459d-ac65-959f5ff1443a",
   "metadata": {},
   "outputs": [
    {
     "name": "stdout",
     "output_type": "stream",
     "text": [
      "{}\n",
      "Muhammad\n"
     ]
    }
   ],
   "source": [
    "null_dict = {} #null_dict\n",
    "print(null_dict)\n",
    "null_dict[\"name\"] = \"Muhammad\" #adding a value  into null_dict\n",
    "print(null_dict[\"name\"])"
   ]
  },
  {
   "cell_type": "markdown",
   "id": "0f3800ba-c610-4bdb-9c4b-6fdb4845ded6",
   "metadata": {},
   "source": [
    "### Nested dictionary"
   ]
  },
  {
   "cell_type": "code",
   "execution_count": 4,
   "id": "7314d0da-0e22-49c9-ab93-9084fa49bbd6",
   "metadata": {},
   "outputs": [
    {
     "name": "stdout",
     "output_type": "stream",
     "text": [
      "{'name': 'Muhammmad Saleem', 'age': 30, 'subjects': {'phy': 87.5, 'chem': 95.6, 'comp': 90}}\n",
      "90\n"
     ]
    }
   ],
   "source": [
    "#Nested dict the dict has a dict in it is called nested dictionary\n",
    "student_profile = {\n",
    "    \"name\" :\"Muhammmad Saleem\",\n",
    "    \"age\" : 30,\n",
    "    \"subjects\" :{\"phy\": 87.5,\n",
    "                 \"chem\":95.6,\n",
    "                 \"comp\" : 90,\n",
    "                }\n",
    "           }\n",
    "print(student_profile)\n",
    "print(student_profile[\"subjects\"][\"comp\"])"
   ]
  },
  {
   "cell_type": "markdown",
   "id": "77fe42a8-3856-4aba-b1fe-86cf57c72355",
   "metadata": {},
   "source": [
    "### dictionary methods"
   ]
  },
  {
   "cell_type": "code",
   "execution_count": 5,
   "id": "1ff7d29b-d9c9-475a-af53-fa0e25127d55",
   "metadata": {},
   "outputs": [
    {
     "name": "stdout",
     "output_type": "stream",
     "text": [
      "dict_keys(['name', 'age', 'subjects'])\n",
      "['name', 'age', 'subjects']\n"
     ]
    }
   ],
   "source": [
    "#.keys() method return all keys\n",
    "student = {\n",
    "    \"name\" :\"Muhammmad Saleem\",\n",
    "    \"age\" : 30,\n",
    "    \"subjects\" :{\"phy\": 87.5,\n",
    "                 \"chem\":95.6,\n",
    "                 \"comp\" : 90,\n",
    "                }\n",
    "           }\n",
    "#print(student)\n",
    "#print(student[\"subjects\"][\"comp\"])\n",
    "print(student.keys())\n",
    "print(list(student.keys())) #typecasting as list"
   ]
  },
  {
   "cell_type": "code",
   "execution_count": 6,
   "id": "f2abdd09-81c5-4568-b28c-489120636ea9",
   "metadata": {},
   "outputs": [
    {
     "name": "stdout",
     "output_type": "stream",
     "text": [
      "dict_values(['Muhammmad Saleem', 30, {'phy': 87.5, 'chem': 95.6, 'comp': 90}])\n",
      "['Muhammmad Saleem', 30, {'phy': 87.5, 'chem': 95.6, 'comp': 90}]\n"
     ]
    }
   ],
   "source": [
    "#.values() return all avlues method\n",
    "student = {\n",
    "    \"name\" :\"Muhammmad Saleem\",\n",
    "    \"age\" : 30,\n",
    "\n",
    "    \"subjects\" :{\"phy\": 87.5,\n",
    "                 \"chem\":95.6,\n",
    "                 \"comp\" : 90,\n",
    "                }\n",
    "           }\n",
    "print(student.values())\n",
    "print(list(student.values()))"
   ]
  },
  {
   "cell_type": "code",
   "execution_count": 7,
   "id": "09ac8e99-28ee-4730-9702-138bc243c002",
   "metadata": {},
   "outputs": [
    {
     "name": "stdout",
     "output_type": "stream",
     "text": [
      "dict_items([('name', 'Muhammmad Saleem'), ('age', 30), ('subjects', {'phy': 87.5, 'chem': 95.6, 'comp': 90})])\n"
     ]
    }
   ],
   "source": [
    "#.items()returns as key and value as tuple\n",
    "student = {\n",
    "    \"name\" :\"Muhammmad Saleem\",\n",
    "    \"age\" : 30,\n",
    "    \"subjects\" :{\"phy\": 87.5,\n",
    "                 \"chem\":95.6,\n",
    "                 \"comp\" : 90,\n",
    "                }\n",
    "           }\n",
    "print(student.items())\n",
    "#print(student[\"subjects\"][\"chem\"])\n",
    "#print(list(student.values()))"
   ]
  },
  {
   "cell_type": "code",
   "execution_count": 8,
   "id": "25203f36-9f18-436a-9aec-8c0497adb96e",
   "metadata": {},
   "outputs": [
    {
     "name": "stdout",
     "output_type": "stream",
     "text": [
      "Muhammmad Saleem\n",
      "Muhammmad Saleem\n"
     ]
    }
   ],
   "source": [
    "#.get()returns the key according to value\n",
    "student = {\n",
    "    \"name\" :\"Muhammmad Saleem\",\n",
    "    \"age\" : 30,\n",
    "    \"subjects\" :{\"phy\": 87.5,\n",
    "                 \"chem\":95.6,\n",
    "                 \"comp\" : 90,\n",
    "                }\n",
    "           }\n",
    "print(student[\"name\"])\n",
    "print(student.get(\"name\"))"
   ]
  },
  {
   "cell_type": "code",
   "execution_count": 9,
   "id": "1c7f3709-6246-417b-9885-34841c6362f7",
   "metadata": {},
   "outputs": [
    {
     "name": "stdout",
     "output_type": "stream",
     "text": [
      "None\n",
      "{'name': 'Muhammmad Saleem', 'age': 30, 'subjects': {'phy': 87.5, 'chem': 95.6, 'comp': 90}, 'city': 'Bahawalpur'}\n"
     ]
    }
   ],
   "source": [
    "#.update(new dict) insert specified items to the dictonary\n",
    "student = {\n",
    "    \"name\" :\"Muhammmad Saleem\",\n",
    "    \"age\" : 30,\n",
    "    \"subjects\" :{\"phy\": 87.5,\n",
    "                 \"chem\":95.6,\n",
    "                 \"comp\" : 90,\n",
    "                }\n",
    "           }\n",
    "print(student.update({\"city\":\"Bahawalpur\"}))\n",
    "\n",
    "print(student)"
   ]
  },
  {
   "cell_type": "markdown",
   "id": "20e85e03-a7c1-4404-8f0c-27e4a93ba61d",
   "metadata": {},
   "source": [
    "### Sets in Python\n",
    "* set is the collection of unordered items.\n",
    "* each element in the set must be unique & immutable\n",
    "* note: set is muteable but set elements are immutable"
   ]
  },
  {
   "cell_type": "code",
   "execution_count": 10,
   "id": "e11abfb5-b387-425a-9883-cf81fab2c471",
   "metadata": {},
   "outputs": [
    {
     "name": "stdout",
     "output_type": "stream",
     "text": [
      "{1, 2, 3, 4, 5, 'Hello world'}\n",
      "<class 'set'>\n"
     ]
    }
   ],
   "source": [
    "set = {1,2,3,4,5,\"Hello world\"}\n",
    "print(set)\n",
    "print(type(set))"
   ]
  },
  {
   "cell_type": "code",
   "execution_count": 11,
   "id": "33021492-72b2-4336-ba98-4f470ec7baa1",
   "metadata": {},
   "outputs": [
    {
     "name": "stdout",
     "output_type": "stream",
     "text": [
      "{'Hello', 1, 2, 3, 4, 5, 'world'}\n",
      "7\n"
     ]
    }
   ],
   "source": [
    "collection = {1,2,3,2,3,3,4,5,\"Hello\", \"world\",\"Hello\"} #ignore duplicated,repeated values\n",
    "print(collection)\n",
    "print(len(collection))#total number of items"
   ]
  },
  {
   "cell_type": "markdown",
   "id": "f4e77ef1-279b-4668-b311-e136af633a80",
   "metadata": {},
   "source": [
    "### set methods"
   ]
  },
  {
   "cell_type": "code",
   "execution_count": 12,
   "id": "522ef2a9-4fbf-41a4-a5c2-708e24ed7247",
   "metadata": {},
   "outputs": [
    {
     "name": "stdout",
     "output_type": "stream",
     "text": [
      "{1, 2, 3, 4, 5, 6, 'python', (6, 7, 8, 8), 'world', 'Hello'}\n"
     ]
    }
   ],
   "source": [
    "#set.add(el)\n",
    "collection = {1,2,3,2,3,3,4,5,\"Hello\", \"world\",\"Hello\"}\n",
    "collection.add(6)\n",
    "collection.add(\"python\")\n",
    "collection.add((6,7,8,8))\n",
    "print(collection)"
   ]
  },
  {
   "cell_type": "code",
   "execution_count": 13,
   "id": "307dd030-b847-4877-9623-e70d16d3adb0",
   "metadata": {},
   "outputs": [
    {
     "name": "stdout",
     "output_type": "stream",
     "text": [
      "{'Hello', 2, 3, 4, 5, 'world'}\n"
     ]
    }
   ],
   "source": [
    "#set.remove(el)\n",
    "final_set = {1,2,3,2,3,3,4,5,\"Hello\", \"world\",\"Hello\"}\n",
    "final_set.remove(1)\n",
    "print(final_set)"
   ]
  },
  {
   "cell_type": "code",
   "execution_count": 14,
   "id": "519e2031-433d-4b35-b5e6-71eaa0fd6074",
   "metadata": {},
   "outputs": [
    {
     "name": "stdout",
     "output_type": "stream",
     "text": [
      "None\n"
     ]
    }
   ],
   "source": [
    "#set.clear() empties the set\n",
    "collection = {1,2,3,2,3,3,4,5,\"Hello\", \"world\",\"Hello\"}\n",
    "print(collection.clear())"
   ]
  },
  {
   "cell_type": "code",
   "execution_count": 15,
   "id": "5271a97f-2a52-4031-8d34-fcf9fd9419a9",
   "metadata": {},
   "outputs": [
    {
     "name": "stdout",
     "output_type": "stream",
     "text": [
      "Hello\n"
     ]
    }
   ],
   "source": [
    "#set.pop() removes a random value\n",
    "collection = {\"Hello\", \"world\",\"python\",\"coding\",1,2,3,4}\n",
    "print(collection.pop())"
   ]
  },
  {
   "cell_type": "code",
   "execution_count": 16,
   "id": "5644e50e-5f03-44e1-9895-aff875f496f8",
   "metadata": {},
   "outputs": [
    {
     "name": "stdout",
     "output_type": "stream",
     "text": [
      "{1, 2, 3, 4, 5}\n"
     ]
    }
   ],
   "source": [
    "#set.union(set2) combines both set values and return new\n",
    "set1 = {1,2,3,4}\n",
    "set2 ={1,2,3,4,5}\n",
    "print(set1.union(set2))"
   ]
  },
  {
   "cell_type": "code",
   "execution_count": 17,
   "id": "8adf1960-079f-4cc0-9398-99196a8dd907",
   "metadata": {},
   "outputs": [
    {
     "name": "stdout",
     "output_type": "stream",
     "text": [
      "{1, 2, 3, 4}\n"
     ]
    }
   ],
   "source": [
    "#set.intersection(set2) combines common values and return new\n",
    "set1 = {1,2,3,4}\n",
    "set2 ={1,2,3,4,5}\n",
    "print(set1.intersection(set2))"
   ]
  },
  {
   "cell_type": "markdown",
   "id": "e2551610-5966-4376-abb9-6a8d35a11fb0",
   "metadata": {},
   "source": [
    "### Qusestion 1 store following word meanings in python dictionary :\n",
    "* table : \"a piece of furniture\",\"list of facts & figure\"\n",
    "* cat : \"a small animal\""
   ]
  },
  {
   "cell_type": "code",
   "execution_count": 22,
   "id": "b94e57d4-2d0b-4a30-8b7f-2590a4f77e98",
   "metadata": {},
   "outputs": [
    {
     "name": "stdout",
     "output_type": "stream",
     "text": [
      "{'cat': 'a small animal', 'table': ['a piece of furniture', 'list of facts & figure']}\n",
      "<class 'dict'>\n"
     ]
    }
   ],
   "source": [
    "dictionary = {\n",
    "    \"cat\" : \"a small animal\",\n",
    "    \"table\" : [\"a piece of furniture\" ,\"list of facts & figure\"]\n",
    "    }\n",
    "print(dictionary)\n",
    "print(type(dictionary))\n",
    "            "
   ]
  },
  {
   "cell_type": "markdown",
   "id": "d3b6360e-0726-44b9-9f4b-0062294e1211",
   "metadata": {},
   "source": [
    "### Question 2 You are given a list of subjects for students assume a classroom is required for 1 subject.How many classrooms are needed by all student\n",
    "* \"python\",\"jave\",\"C ++\",\"python\",\"javascript\",\n",
    "* \"java\",\"python\",\"java\",\"C++\",\"C\""
   ]
  },
  {
   "cell_type": "code",
   "execution_count": 25,
   "id": "ffcdfd46-c71f-4728-b5a1-5ce4a36a46b0",
   "metadata": {},
   "outputs": [
    {
     "name": "stdout",
     "output_type": "stream",
     "text": [
      "{'java', 'C++', 'python', 'javascript', 'c', 'c++'}\n",
      "6\n",
      "<class 'set'>\n"
     ]
    }
   ],
   "source": [
    "set = {\"python\",\"java\",\"c++\",\"python\",\"javascript\",\"java\",\n",
    "       \"python\",\"java\",\"C++\",\"c\"\n",
    "      }\n",
    "print(set)\n",
    "print(len(set))\n",
    "print(type(set))"
   ]
  },
  {
   "cell_type": "markdown",
   "id": "cc6e7459-ce08-4cf4-ac1c-1b8b58d1fde2",
   "metadata": {},
   "source": [
    "### Question 3 WAP to enter marks of 3 subjects from the user and store them into dictionary .start with an empty dictioary & add one by one ,use subject name as key and marks as  value?"
   ]
  },
  {
   "cell_type": "code",
   "execution_count": 26,
   "id": "94bc8e14-9532-4a52-a540-a51aee10a005",
   "metadata": {},
   "outputs": [
    {
     "name": "stdin",
     "output_type": "stream",
     "text": [
      "enter english marks: 92\n",
      "enter phy marks: 90\n",
      "enter chem marks: 95\n"
     ]
    },
    {
     "name": "stdout",
     "output_type": "stream",
     "text": [
      "{'english': 92, 'phy': 90, 'chem': 95}\n"
     ]
    }
   ],
   "source": [
    "marks = {} #init as empty dictionary\n",
    "\n",
    "x = int(input(\"enter english marks:\")) #input marks by user\n",
    "marks.update ({\"english\" : x})\n",
    "x = int(input(\"enter phy marks:\"))\n",
    "marks.update ({\"phy\" : x})\n",
    "x = int(input(\"enter chem marks:\"))\n",
    "marks.update ({\"chem\" : x})\n",
    "print(marks)\n",
    "\n"
   ]
  },
  {
   "cell_type": "markdown",
   "id": "3b9c85fe-4597-4a5f-bb5c-f6a29359f6dc",
   "metadata": {},
   "source": [
    "### Qusetion 4 figure out a way to store 9 & 9.0 as as a seprate values in the set.\n",
    "* (you can take help of built in data types)"
   ]
  },
  {
   "cell_type": "code",
   "execution_count": 28,
   "id": "5096957e-69ac-4bce-a092-e273bfbfcda3",
   "metadata": {},
   "outputs": [
    {
     "name": "stdout",
     "output_type": "stream",
     "text": [
      "{9, '9.0'}\n"
     ]
    }
   ],
   "source": [
    "#first solution\n",
    "values = {9,\"9.0\"} #enter value in string formate\n",
    "print(values)\n"
   ]
  },
  {
   "cell_type": "code",
   "execution_count": 30,
   "id": "d2d59d77-a778-49a3-9fd0-24bd6ee7e308",
   "metadata": {},
   "outputs": [
    {
     "name": "stdout",
     "output_type": "stream",
     "text": [
      "{('int', 9), ('float', 9.0)}\n"
     ]
    }
   ],
   "source": [
    "#second solution using built in data type\n",
    "values ={ \n",
    "    (\"float\" ,9.0),\n",
    "    (\"int\" ,9)\n",
    "    }\n",
    "print(values)\n"
   ]
  },
  {
   "cell_type": "code",
   "execution_count": null,
   "id": "51eebaea-8fff-4ea2-9b56-46329be0f38d",
   "metadata": {},
   "outputs": [],
   "source": []
  }
 ],
 "metadata": {
  "kernelspec": {
   "display_name": "Python 3 (ipykernel)",
   "language": "python",
   "name": "python3"
  },
  "language_info": {
   "codemirror_mode": {
    "name": "ipython",
    "version": 3
   },
   "file_extension": ".py",
   "mimetype": "text/x-python",
   "name": "python",
   "nbconvert_exporter": "python",
   "pygments_lexer": "ipython3",
   "version": "3.11.7"
  }
 },
 "nbformat": 4,
 "nbformat_minor": 5
}
