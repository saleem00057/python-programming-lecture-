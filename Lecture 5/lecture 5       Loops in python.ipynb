{
 "cells": [
  {
   "cell_type": "markdown",
   "id": "811162e3-2a75-4243-800d-ef50640de60b",
   "metadata": {},
   "source": [
    "### Loops in python\n",
    "* while loop, for loop"
   ]
  },
  {
   "cell_type": "code",
   "execution_count": 44,
   "id": "5739a371-5392-483f-9911-a55bb0448d18",
   "metadata": {
    "scrolled": true
   },
   "outputs": [
    {
     "name": "stdout",
     "output_type": "stream",
     "text": [
      "Allah is Great\n",
      "2\n",
      "Allah is Great\n",
      "3\n",
      "Allah is Great\n",
      "4\n",
      "Allah is Great\n",
      "5\n",
      "Allah is Great\n",
      "6\n"
     ]
    }
   ],
   "source": [
    "count = 1\n",
    "while count <= 5: #while is reserved keyword\n",
    "     print(\"Allah is Great\")\n",
    "     count += 1\n",
    "     print(count)"
   ]
  },
  {
   "cell_type": "code",
   "execution_count": 2,
   "id": "8f0202bc-c38f-4320-8b54-6e143a826472",
   "metadata": {},
   "outputs": [
    {
     "name": "stdout",
     "output_type": "stream",
     "text": [
      "Saleem 1\n",
      "Saleem 2\n",
      "Saleem 3\n",
      "Saleem 4\n",
      "Saleem 5\n",
      "Saleem 6\n",
      "Saleem 7\n",
      "Saleem 8\n",
      "Saleem 9\n",
      "Saleem 10\n"
     ]
    }
   ],
   "source": [
    "i =1\n",
    "while i <= 10: \n",
    " print(\"Saleem\",i)\n",
    " i +=1    "
   ]
  },
  {
   "cell_type": "markdown",
   "id": "f47b402b-377d-459d-8b3c-57eeda05b653",
   "metadata": {},
   "source": [
    "### Question 1 print numbers from 1 to 100.?"
   ]
  },
  {
   "cell_type": "code",
   "execution_count": 3,
   "id": "1bf99151-984b-45c4-9ad4-2495c40b946f",
   "metadata": {},
   "outputs": [
    {
     "name": "stdout",
     "output_type": "stream",
     "text": [
      "1\n",
      "2\n",
      "3\n",
      "4\n",
      "5\n",
      "6\n",
      "7\n",
      "8\n",
      "9\n",
      "10\n",
      "11\n",
      "12\n",
      "13\n",
      "14\n",
      "15\n",
      "16\n",
      "17\n",
      "18\n",
      "19\n",
      "20\n",
      "21\n",
      "22\n",
      "23\n",
      "24\n",
      "25\n",
      "26\n",
      "27\n",
      "28\n",
      "29\n",
      "30\n",
      "31\n",
      "32\n",
      "33\n",
      "34\n",
      "35\n",
      "36\n",
      "37\n",
      "38\n",
      "39\n",
      "40\n",
      "41\n",
      "42\n",
      "43\n",
      "44\n",
      "45\n",
      "46\n",
      "47\n",
      "48\n",
      "49\n",
      "50\n",
      "51\n",
      "52\n",
      "53\n",
      "54\n",
      "55\n",
      "56\n",
      "57\n",
      "58\n",
      "59\n",
      "60\n",
      "61\n",
      "62\n",
      "63\n",
      "64\n",
      "65\n",
      "66\n",
      "67\n",
      "68\n",
      "69\n",
      "70\n",
      "71\n",
      "72\n",
      "73\n",
      "74\n",
      "75\n",
      "76\n",
      "77\n",
      "78\n",
      "79\n",
      "80\n",
      "81\n",
      "82\n",
      "83\n",
      "84\n",
      "85\n",
      "86\n",
      "87\n",
      "88\n",
      "89\n",
      "90\n",
      "91\n",
      "92\n",
      "93\n",
      "94\n",
      "95\n",
      "96\n",
      "97\n",
      "98\n",
      "99\n",
      "100\n"
     ]
    }
   ],
   "source": [
    "i =1\n",
    "while i <= 100:\n",
    " print(i)\n",
    " i +=1"
   ]
  },
  {
   "cell_type": "markdown",
   "id": "3a819010-22a8-4d03-8286-bc1adf06b90a",
   "metadata": {},
   "source": [
    "### Question no 2 print number from 100 to 1."
   ]
  },
  {
   "cell_type": "code",
   "execution_count": 3,
   "id": "c83ed8af-c99d-4bfe-b6b2-afb68d36b264",
   "metadata": {},
   "outputs": [
    {
     "name": "stdout",
     "output_type": "stream",
     "text": [
      "100\n",
      "99\n",
      "98\n",
      "97\n",
      "96\n",
      "95\n",
      "94\n",
      "93\n",
      "92\n",
      "91\n",
      "90\n",
      "89\n",
      "88\n",
      "87\n",
      "86\n",
      "85\n",
      "84\n",
      "83\n",
      "82\n",
      "81\n",
      "80\n",
      "79\n",
      "78\n",
      "77\n",
      "76\n",
      "75\n",
      "74\n",
      "73\n",
      "72\n",
      "71\n",
      "70\n",
      "69\n",
      "68\n",
      "67\n",
      "66\n",
      "65\n",
      "64\n",
      "63\n",
      "62\n",
      "61\n",
      "60\n",
      "59\n",
      "58\n",
      "57\n",
      "56\n",
      "55\n",
      "54\n",
      "53\n",
      "52\n",
      "51\n",
      "50\n",
      "49\n",
      "48\n",
      "47\n",
      "46\n",
      "45\n",
      "44\n",
      "43\n",
      "42\n",
      "41\n",
      "40\n",
      "39\n",
      "38\n",
      "37\n",
      "36\n",
      "35\n",
      "34\n",
      "33\n",
      "32\n",
      "31\n",
      "30\n",
      "29\n",
      "28\n",
      "27\n",
      "26\n",
      "25\n",
      "24\n",
      "23\n",
      "22\n",
      "21\n",
      "20\n",
      "19\n",
      "18\n",
      "17\n",
      "16\n",
      "15\n",
      "14\n",
      "13\n",
      "12\n",
      "11\n",
      "10\n",
      "9\n",
      "8\n",
      "7\n",
      "6\n",
      "5\n",
      "4\n",
      "3\n",
      "2\n",
      "1\n"
     ]
    }
   ],
   "source": [
    "i = 100\n",
    "while i >= 1: #stoping condition\n",
    " print(i)\n",
    " i -=1    "
   ]
  },
  {
   "cell_type": "markdown",
   "id": "c5d29f5d-4fe1-4691-9ae0-e8676f981640",
   "metadata": {},
   "source": [
    "### Question 3 print multiplication table of \"n\""
   ]
  },
  {
   "cell_type": "code",
   "execution_count": 4,
   "id": "e0a284e3-0caf-4a2d-b896-1be3c328d2e7",
   "metadata": {},
   "outputs": [
    {
     "name": "stdin",
     "output_type": "stream",
     "text": [
      "input from user 3\n"
     ]
    },
    {
     "name": "stdout",
     "output_type": "stream",
     "text": [
      "3\n",
      "6\n",
      "9\n",
      "12\n",
      "15\n",
      "18\n",
      "21\n",
      "24\n",
      "27\n",
      "30\n"
     ]
    }
   ],
   "source": [
    "n = int(input(\"input from user\"))\n",
    "i = 1\n",
    "while i <= 10:\n",
    "     print(n*i)\n",
    "     i += 1"
   ]
  },
  {
   "cell_type": "markdown",
   "id": "630a7132-9d5f-4f93-a3cb-97b0147ff329",
   "metadata": {},
   "source": [
    "### Question no 4 print the element of following list number"
   ]
  },
  {
   "cell_type": "code",
   "execution_count": 5,
   "id": "d5b85395-79cd-40b5-b0f3-513b4ce83dcc",
   "metadata": {},
   "outputs": [
    {
     "name": "stdout",
     "output_type": "stream",
     "text": [
      "1\n",
      "4\n",
      "9\n",
      "16\n",
      "25\n",
      "36\n",
      "49\n",
      "64\n",
      "81\n",
      "100\n"
     ]
    }
   ],
   "source": [
    "num =[1,4,9,16,25,36,49,64,81,100] #traverse\n",
    "index = 0\n",
    "while index < len(num):\n",
    "    print(num[index])      # num [0],num[1],num[2]...\n",
    "    index += 1"
   ]
  },
  {
   "cell_type": "markdown",
   "id": "8a781ca3-d01b-4369-944e-c10a45cd5e03",
   "metadata": {},
   "source": [
    "###  Question 5 search for num x in this tuple using loop."
   ]
  },
  {
   "cell_type": "code",
   "execution_count": 6,
   "id": "baa14af1-f950-4810-863c-29bed84b3e85",
   "metadata": {},
   "outputs": [
    {
     "name": "stdout",
     "output_type": "stream",
     "text": [
      "Found at index 5\n"
     ]
    }
   ],
   "source": [
    "num = (1, 4, 9, 16, 25, 36, 49, 64, 81, 100)\n",
    "x = 36\n",
    "i = 0  # initialization\n",
    "while i < len(num):\n",
    "    if num[i] == x:\n",
    "        print(\"Found at index\", i)\n",
    "    i += 1\n"
   ]
  },
  {
   "cell_type": "code",
   "execution_count": 33,
   "id": "bb8451a1-20d6-409a-96de-9a8f13103f0f",
   "metadata": {},
   "outputs": [
    {
     "name": "stdout",
     "output_type": "stream",
     "text": [
      "1\n",
      "2\n",
      "3\n",
      "end of loop\n"
     ]
    }
   ],
   "source": [
    "#break\n",
    "i = 1\n",
    "while i <= 5:\n",
    "    print(i)\n",
    "    if(i == 3):\n",
    "         break\n",
    "    i += 1\n",
    "\n",
    "print(\"end of loop\")"
   ]
  },
  {
   "cell_type": "code",
   "execution_count": 35,
   "id": "1ed08a5b-5b34-41f5-bbb4-d63ce9d046b4",
   "metadata": {},
   "outputs": [],
   "source": [
    "#continue\n",
    "i = 0\n",
    "while i <= 5:\n",
    "    if(i == 3):\n",
    "        i += 1\n",
    "        continue #skip\n",
    "        print(i)\n",
    "    i += 1"
   ]
  },
  {
   "cell_type": "markdown",
   "id": "763e2a40-4958-4dce-aac1-3f5629495347",
   "metadata": {},
   "source": [
    "### For loop\n",
    "* use for sequential traversal for traversal list tuple string etc.."
   ]
  },
  {
   "cell_type": "code",
   "execution_count": 11,
   "id": "ca53ff37-5666-4797-8bd0-b800576a3449",
   "metadata": {},
   "outputs": [
    {
     "name": "stdout",
     "output_type": "stream",
     "text": [
      "1\n",
      "2\n",
      "3\n",
      "4\n",
      "5\n"
     ]
    }
   ],
   "source": [
    "num =[1,2,3,4,5] #list\n",
    "for val in num: #for and in is a reserverd keywords\n",
    "    print(val)"
   ]
  },
  {
   "cell_type": "code",
   "execution_count": 12,
   "id": "0cf20f95-ee19-43d7-8645-9e321e775c3e",
   "metadata": {},
   "outputs": [
    {
     "name": "stdout",
     "output_type": "stream",
     "text": [
      "ladyfinger\n",
      "lemon\n",
      "cucamber\n"
     ]
    }
   ],
   "source": [
    "veggies =[\"ladyfinger\",\"lemon\",\"cucamber\"] #list\n",
    "for val in veggies: #for and in is a reserverd keywords\n",
    "    print(val)"
   ]
  },
  {
   "cell_type": "code",
   "execution_count": 13,
   "id": "98656a74-e939-4a2d-bfd9-4cb349af82e3",
   "metadata": {},
   "outputs": [
    {
     "name": "stdout",
     "output_type": "stream",
     "text": [
      "1\n",
      "2\n",
      "3\n",
      "4\n",
      "5\n"
     ]
    }
   ],
   "source": [
    "tuple =(1,2,3,4,5)\n",
    "for val in tuple:\n",
    "    print(val)"
   ]
  },
  {
   "cell_type": "code",
   "execution_count": 14,
   "id": "ca57ec65-761b-4d43-b133-5e4385c9beff",
   "metadata": {},
   "outputs": [
    {
     "name": "stdout",
     "output_type": "stream",
     "text": [
      "A\n",
      "l\n",
      "l\n",
      "a\n",
      "h\n",
      " \n",
      "i\n",
      "s\n",
      " \n",
      "o\n",
      "n\n",
      "e\n"
     ]
    }
   ],
   "source": [
    "str =\"Allah is one\" #string\n",
    "for chr in str:\n",
    "    print(chr)"
   ]
  },
  {
   "cell_type": "code",
   "execution_count": 15,
   "id": "b3095f4b-f402-4ca5-80bb-67a17c6b664e",
   "metadata": {},
   "outputs": [
    {
     "name": "stdout",
     "output_type": "stream",
     "text": [
      "A\n",
      "l\n",
      "l\n",
      "a\n",
      "h\n",
      " \n",
      "i\n",
      "s\n",
      " \n",
      "o\n",
      "n\n",
      "e\n",
      "the end\n"
     ]
    }
   ],
   "source": [
    "str =\"Allah is one\" #string with optional else\n",
    "for chr in str:\n",
    "    print(chr)\n",
    "else:\n",
    "    print(\"the end\")"
   ]
  },
  {
   "cell_type": "markdown",
   "id": "50b4a9c8-50e0-4aca-9fcd-c74c76372a2f",
   "metadata": {},
   "source": [
    "### Question 1 print the element of the following list using a loop\n",
    "* [1, 4, 9, 16, 25, 36, 49, 64, 81, 100]"
   ]
  },
  {
   "cell_type": "code",
   "execution_count": 16,
   "id": "8a10fe97-4953-4a8b-aa6c-1f0683d9e290",
   "metadata": {},
   "outputs": [
    {
     "name": "stdout",
     "output_type": "stream",
     "text": [
      "1\n",
      "4\n",
      "9\n",
      "16\n",
      "25\n",
      "36\n",
      "49\n",
      "64\n",
      "81\n",
      "100\n"
     ]
    }
   ],
   "source": [
    "list = [1, 4, 9, 16, 25, 36, 49, 64, 81, 100]\n",
    "for el in list:\n",
    "    print(el)\n"
   ]
  },
  {
   "cell_type": "markdown",
   "id": "f024d145-5523-46a2-8533-7c3c46257893",
   "metadata": {},
   "source": [
    "### Question 2 search num x in given loop"
   ]
  },
  {
   "cell_type": "code",
   "execution_count": 36,
   "id": "7ca0dfb1-8e54-451a-b472-5cd8c82dc3db",
   "metadata": {},
   "outputs": [
    {
     "name": "stdout",
     "output_type": "stream",
     "text": [
      "found num at indx 5\n"
     ]
    }
   ],
   "source": [
    "num = (1, 4, 9, 16, 25, 36, 49, 64, 81, 100)\n",
    "x = 36\n",
    "\n",
    "indx = 0\n",
    "\n",
    "for el in num:\n",
    "    if(el == x):\n",
    "     print(\"found num at indx\", indx)\n",
    "    indx += 1"
   ]
  },
  {
   "cell_type": "markdown",
   "id": "c3ceb7ac-3498-4821-971a-c33226e1840b",
   "metadata": {},
   "source": [
    "### Range()\n",
    "* range function returns the sequance of num,starting from 0 by default and increment of 1 by default and stops before a spacified num"
   ]
  },
  {
   "cell_type": "code",
   "execution_count": 18,
   "id": "66744665-ef51-4315-a86a-dcb9ef2019e5",
   "metadata": {},
   "outputs": [
    {
     "name": "stdout",
     "output_type": "stream",
     "text": [
      "0\n",
      "1\n",
      "2\n",
      "3\n",
      "4\n"
     ]
    }
   ],
   "source": [
    "seq = range(5)\n",
    "for i in seq:\n",
    "    print(i)\n"
   ]
  },
  {
   "cell_type": "code",
   "execution_count": 19,
   "id": "c5409fd3-fa9a-4949-a75c-2e3155657f3f",
   "metadata": {},
   "outputs": [
    {
     "name": "stdout",
     "output_type": "stream",
     "text": [
      "0\n",
      "1\n",
      "2\n",
      "3\n",
      "4\n",
      "5\n",
      "6\n",
      "7\n",
      "8\n",
      "9\n"
     ]
    }
   ],
   "source": [
    "#Exmple\n",
    "for i in range(10):\n",
    "    print(i)"
   ]
  },
  {
   "cell_type": "code",
   "execution_count": 20,
   "id": "21e66325-d9de-4e4b-9af3-343aec6cc4cc",
   "metadata": {},
   "outputs": [
    {
     "name": "stdout",
     "output_type": "stream",
     "text": [
      "2\n",
      "3\n",
      "4\n",
      "5\n",
      "6\n",
      "7\n",
      "8\n",
      "9\n"
     ]
    }
   ],
   "source": [
    "#start,stop\n",
    "for i in range(2,10): #start,stop\n",
    "    print(i)"
   ]
  },
  {
   "cell_type": "code",
   "execution_count": 21,
   "id": "87d8eda4-225e-40b5-89ea-616a9c709065",
   "metadata": {},
   "outputs": [
    {
     "name": "stdout",
     "output_type": "stream",
     "text": [
      "2\n",
      "4\n",
      "6\n",
      "8\n"
     ]
    }
   ],
   "source": [
    "#start,stop,step\n",
    "for i in range(2,10,2): #start,stop,step\n",
    "    print(i)"
   ]
  },
  {
   "cell_type": "markdown",
   "id": "a3c60944-3062-488f-9a2e-ec4126adbad5",
   "metadata": {},
   "source": [
    "### Question 1 print num from 1 to 100 using for loop and range"
   ]
  },
  {
   "cell_type": "code",
   "execution_count": 22,
   "id": "6020ed18-5f74-4fa8-b96a-f84257d9cbeb",
   "metadata": {},
   "outputs": [
    {
     "name": "stdout",
     "output_type": "stream",
     "text": [
      "1\n",
      "2\n",
      "3\n",
      "4\n",
      "5\n",
      "6\n",
      "7\n",
      "8\n",
      "9\n",
      "10\n",
      "11\n",
      "12\n",
      "13\n",
      "14\n",
      "15\n",
      "16\n",
      "17\n",
      "18\n",
      "19\n",
      "20\n",
      "21\n",
      "22\n",
      "23\n",
      "24\n",
      "25\n",
      "26\n",
      "27\n",
      "28\n",
      "29\n",
      "30\n",
      "31\n",
      "32\n",
      "33\n",
      "34\n",
      "35\n",
      "36\n",
      "37\n",
      "38\n",
      "39\n",
      "40\n",
      "41\n",
      "42\n",
      "43\n",
      "44\n",
      "45\n",
      "46\n",
      "47\n",
      "48\n",
      "49\n",
      "50\n",
      "51\n",
      "52\n",
      "53\n",
      "54\n",
      "55\n",
      "56\n",
      "57\n",
      "58\n",
      "59\n",
      "60\n",
      "61\n",
      "62\n",
      "63\n",
      "64\n",
      "65\n",
      "66\n",
      "67\n",
      "68\n",
      "69\n",
      "70\n",
      "71\n",
      "72\n",
      "73\n",
      "74\n",
      "75\n",
      "76\n",
      "77\n",
      "78\n",
      "79\n",
      "80\n",
      "81\n",
      "82\n",
      "83\n",
      "84\n",
      "85\n",
      "86\n",
      "87\n",
      "88\n",
      "89\n",
      "90\n",
      "91\n",
      "92\n",
      "93\n",
      "94\n",
      "95\n",
      "96\n",
      "97\n",
      "98\n",
      "99\n",
      "100\n"
     ]
    }
   ],
   "source": [
    "for i in range(1,101):\n",
    "    print(i)"
   ]
  },
  {
   "cell_type": "markdown",
   "id": "faf65aa8-6b5d-4ba4-9027-d33546aa116b",
   "metadata": {},
   "source": [
    "### Question 2 print num from 100 to 1 "
   ]
  },
  {
   "cell_type": "code",
   "execution_count": 23,
   "id": "ba984822-215f-4af6-9702-f0a606ed87e6",
   "metadata": {},
   "outputs": [
    {
     "name": "stdout",
     "output_type": "stream",
     "text": [
      "100\n",
      "99\n",
      "98\n",
      "97\n",
      "96\n",
      "95\n",
      "94\n",
      "93\n",
      "92\n",
      "91\n",
      "90\n",
      "89\n",
      "88\n",
      "87\n",
      "86\n",
      "85\n",
      "84\n",
      "83\n",
      "82\n",
      "81\n",
      "80\n",
      "79\n",
      "78\n",
      "77\n",
      "76\n",
      "75\n",
      "74\n",
      "73\n",
      "72\n",
      "71\n",
      "70\n",
      "69\n",
      "68\n",
      "67\n",
      "66\n",
      "65\n",
      "64\n",
      "63\n",
      "62\n",
      "61\n",
      "60\n",
      "59\n",
      "58\n",
      "57\n",
      "56\n",
      "55\n",
      "54\n",
      "53\n",
      "52\n",
      "51\n",
      "50\n",
      "49\n",
      "48\n",
      "47\n",
      "46\n",
      "45\n",
      "44\n",
      "43\n",
      "42\n",
      "41\n",
      "40\n",
      "39\n",
      "38\n",
      "37\n",
      "36\n",
      "35\n",
      "34\n",
      "33\n",
      "32\n",
      "31\n",
      "30\n",
      "29\n",
      "28\n",
      "27\n",
      "26\n",
      "25\n",
      "24\n",
      "23\n",
      "22\n",
      "21\n",
      "20\n",
      "19\n",
      "18\n",
      "17\n",
      "16\n",
      "15\n",
      "14\n",
      "13\n",
      "12\n",
      "11\n",
      "10\n",
      "9\n",
      "8\n",
      "7\n",
      "6\n",
      "5\n",
      "4\n",
      "3\n",
      "2\n",
      "1\n"
     ]
    }
   ],
   "source": [
    "for i in range(100,0,-1): #when we are going to decreasing step size will b in \"-\"\n",
    "    print(i)"
   ]
  },
  {
   "cell_type": "markdown",
   "id": "066ac63f-acf7-4cf7-9a4e-d7e096cafd2c",
   "metadata": {},
   "source": [
    "### Question 2 print the multiplication table of num \"n\""
   ]
  },
  {
   "cell_type": "code",
   "execution_count": 24,
   "id": "0267f175-6e06-419d-a133-617a036afb43",
   "metadata": {},
   "outputs": [
    {
     "name": "stdin",
     "output_type": "stream",
     "text": [
      "number from user: 2\n"
     ]
    },
    {
     "name": "stdout",
     "output_type": "stream",
     "text": [
      "2\n",
      "4\n",
      "6\n",
      "8\n",
      "10\n",
      "12\n",
      "14\n",
      "16\n",
      "18\n",
      "20\n"
     ]
    }
   ],
   "source": [
    "n = int(input(\"number from user:\"))\n",
    "for i in range(1,11):\n",
    "    print(i*n)\n",
    "              "
   ]
  },
  {
   "cell_type": "markdown",
   "id": "97327b32-d705-4716-b6c5-aa38411c8f88",
   "metadata": {},
   "source": [
    "### pass statment\n",
    "* pass is null statment that does nothing it is used as place holder for future code"
   ]
  },
  {
   "cell_type": "code",
   "execution_count": 25,
   "id": "8288983d-c63e-47ae-974c-4f2c0453bdc3",
   "metadata": {},
   "outputs": [
    {
     "name": "stdout",
     "output_type": "stream",
     "text": [
      "some useful work\n"
     ]
    }
   ],
   "source": [
    "for i in range(5):\n",
    "    pass\n",
    "print(\"some useful work\")"
   ]
  },
  {
   "cell_type": "markdown",
   "id": "640bad57-80de-444e-8d3d-4622e0015260",
   "metadata": {},
   "source": [
    "### Question 3 WAP to find the sum of first \"n\" natural num (using while loop)"
   ]
  },
  {
   "cell_type": "code",
   "execution_count": 26,
   "id": "3a87c0ef-0b5c-4dc8-9f63-8c6bcbc58d51",
   "metadata": {},
   "outputs": [
    {
     "name": "stdout",
     "output_type": "stream",
     "text": [
      "total sum = 1\n",
      "total sum = 3\n",
      "total sum = 6\n",
      "total sum = 10\n",
      "total sum = 15\n",
      "total sum = 21\n",
      "total sum = 28\n"
     ]
    }
   ],
   "source": [
    "n = 7\n",
    "sum = 0\n",
    "i = 1\n",
    "while i <= n:\n",
    "    sum += i\n",
    "    i+= 1\n",
    "    print(\"total sum =\",sum)"
   ]
  },
  {
   "cell_type": "markdown",
   "id": "04886a5d-171e-42f3-965a-596b9e0e5bc6",
   "metadata": {},
   "source": [
    "### Question 2 WAP to find the factorial for first n number (using for loop)"
   ]
  },
  {
   "cell_type": "code",
   "execution_count": 37,
   "id": "4a9bb463-90c3-4539-bb65-487598dbd167",
   "metadata": {},
   "outputs": [
    {
     "name": "stdout",
     "output_type": "stream",
     "text": [
      "total fact = 1\n",
      "total fact = 2\n",
      "total fact = 6\n",
      "total fact = 24\n",
      "total fact = 120\n"
     ]
    }
   ],
   "source": [
    "n = 5\n",
    "fact = 1\n",
    "i = 1\n",
    "while i <= n:\n",
    "    fact *= i\n",
    "    i+= 1\n",
    "    print(\"total fact =\",fact)"
   ]
  },
  {
   "cell_type": "code",
   "execution_count": null,
   "id": "619fc7e4-db4a-4c00-a8c5-49dc2a5b7d3d",
   "metadata": {},
   "outputs": [],
   "source": []
  }
 ],
 "metadata": {
  "kernelspec": {
   "display_name": "Python 3 (ipykernel)",
   "language": "python",
   "name": "python3"
  },
  "language_info": {
   "codemirror_mode": {
    "name": "ipython",
    "version": 3
   },
   "file_extension": ".py",
   "mimetype": "text/x-python",
   "name": "python",
   "nbconvert_exporter": "python",
   "pygments_lexer": "ipython3",
   "version": "3.11.7"
  }
 },
 "nbformat": 4,
 "nbformat_minor": 5
}
